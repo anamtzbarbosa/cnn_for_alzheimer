{
  "nbformat": 4,
  "nbformat_minor": 0,
  "metadata": {
    "colab": {
      "provenance": [],
      "collapsed_sections": [
        "SHaGskBD-aQ8"
      ]
    },
    "kernelspec": {
      "name": "python3",
      "display_name": "Python 3"
    },
    "language_info": {
      "name": "python"
    }
  },
  "cells": [
    {
      "cell_type": "markdown",
      "source": [
        "# Importar librerias necesarias"
      ],
      "metadata": {
        "id": "SHaGskBD-aQ8"
      }
    },
    {
      "cell_type": "code",
      "source": [
        "import os\n",
        "import numpy as np\n",
        "import matplotlib.pyplot as plt\n",
        "from tensorflow import keras\n",
        "import tensorflow as tf\n",
        "from tensorflow.keras.preprocessing.image import ImageDataGenerator"
      ],
      "metadata": {
        "id": "Qgn_KBoXa-Z2"
      },
      "execution_count": null,
      "outputs": []
    },
    {
      "cell_type": "code",
      "execution_count": null,
      "metadata": {
        "id": "ZUTfM5CoXam0"
      },
      "outputs": [],
      "source": [
        "!pip install kaggle"
      ]
    },
    {
      "cell_type": "code",
      "source": [
        "from google.colab import files\n",
        "uploaded = files.upload()\n",
        "\n",
        "!mkdir -p ~/.kaggle\n",
        "!mv kaggle.json ~/.kaggle/\n",
        "!chmod 600 ~/.kaggle/kaggle.json"
      ],
      "metadata": {
        "colab": {
          "base_uri": "https://localhost:8080/",
          "height": 73
        },
        "id": "X6Cq8prCXeoO",
        "outputId": "7a5e040d-791f-40eb-aebc-741e5346cc73"
      },
      "execution_count": null,
      "outputs": [
        {
          "output_type": "display_data",
          "data": {
            "text/plain": [
              "<IPython.core.display.HTML object>"
            ],
            "text/html": [
              "\n",
              "     <input type=\"file\" id=\"files-b1fdd3d2-5d65-47b5-97e5-6c4eee4cc24f\" name=\"files[]\" multiple disabled\n",
              "        style=\"border:none\" />\n",
              "     <output id=\"result-b1fdd3d2-5d65-47b5-97e5-6c4eee4cc24f\">\n",
              "      Upload widget is only available when the cell has been executed in the\n",
              "      current browser session. Please rerun this cell to enable.\n",
              "      </output>\n",
              "      <script>// Copyright 2017 Google LLC\n",
              "//\n",
              "// Licensed under the Apache License, Version 2.0 (the \"License\");\n",
              "// you may not use this file except in compliance with the License.\n",
              "// You may obtain a copy of the License at\n",
              "//\n",
              "//      http://www.apache.org/licenses/LICENSE-2.0\n",
              "//\n",
              "// Unless required by applicable law or agreed to in writing, software\n",
              "// distributed under the License is distributed on an \"AS IS\" BASIS,\n",
              "// WITHOUT WARRANTIES OR CONDITIONS OF ANY KIND, either express or implied.\n",
              "// See the License for the specific language governing permissions and\n",
              "// limitations under the License.\n",
              "\n",
              "/**\n",
              " * @fileoverview Helpers for google.colab Python module.\n",
              " */\n",
              "(function(scope) {\n",
              "function span(text, styleAttributes = {}) {\n",
              "  const element = document.createElement('span');\n",
              "  element.textContent = text;\n",
              "  for (const key of Object.keys(styleAttributes)) {\n",
              "    element.style[key] = styleAttributes[key];\n",
              "  }\n",
              "  return element;\n",
              "}\n",
              "\n",
              "// Max number of bytes which will be uploaded at a time.\n",
              "const MAX_PAYLOAD_SIZE = 100 * 1024;\n",
              "\n",
              "function _uploadFiles(inputId, outputId) {\n",
              "  const steps = uploadFilesStep(inputId, outputId);\n",
              "  const outputElement = document.getElementById(outputId);\n",
              "  // Cache steps on the outputElement to make it available for the next call\n",
              "  // to uploadFilesContinue from Python.\n",
              "  outputElement.steps = steps;\n",
              "\n",
              "  return _uploadFilesContinue(outputId);\n",
              "}\n",
              "\n",
              "// This is roughly an async generator (not supported in the browser yet),\n",
              "// where there are multiple asynchronous steps and the Python side is going\n",
              "// to poll for completion of each step.\n",
              "// This uses a Promise to block the python side on completion of each step,\n",
              "// then passes the result of the previous step as the input to the next step.\n",
              "function _uploadFilesContinue(outputId) {\n",
              "  const outputElement = document.getElementById(outputId);\n",
              "  const steps = outputElement.steps;\n",
              "\n",
              "  const next = steps.next(outputElement.lastPromiseValue);\n",
              "  return Promise.resolve(next.value.promise).then((value) => {\n",
              "    // Cache the last promise value to make it available to the next\n",
              "    // step of the generator.\n",
              "    outputElement.lastPromiseValue = value;\n",
              "    return next.value.response;\n",
              "  });\n",
              "}\n",
              "\n",
              "/**\n",
              " * Generator function which is called between each async step of the upload\n",
              " * process.\n",
              " * @param {string} inputId Element ID of the input file picker element.\n",
              " * @param {string} outputId Element ID of the output display.\n",
              " * @return {!Iterable<!Object>} Iterable of next steps.\n",
              " */\n",
              "function* uploadFilesStep(inputId, outputId) {\n",
              "  const inputElement = document.getElementById(inputId);\n",
              "  inputElement.disabled = false;\n",
              "\n",
              "  const outputElement = document.getElementById(outputId);\n",
              "  outputElement.innerHTML = '';\n",
              "\n",
              "  const pickedPromise = new Promise((resolve) => {\n",
              "    inputElement.addEventListener('change', (e) => {\n",
              "      resolve(e.target.files);\n",
              "    });\n",
              "  });\n",
              "\n",
              "  const cancel = document.createElement('button');\n",
              "  inputElement.parentElement.appendChild(cancel);\n",
              "  cancel.textContent = 'Cancel upload';\n",
              "  const cancelPromise = new Promise((resolve) => {\n",
              "    cancel.onclick = () => {\n",
              "      resolve(null);\n",
              "    };\n",
              "  });\n",
              "\n",
              "  // Wait for the user to pick the files.\n",
              "  const files = yield {\n",
              "    promise: Promise.race([pickedPromise, cancelPromise]),\n",
              "    response: {\n",
              "      action: 'starting',\n",
              "    }\n",
              "  };\n",
              "\n",
              "  cancel.remove();\n",
              "\n",
              "  // Disable the input element since further picks are not allowed.\n",
              "  inputElement.disabled = true;\n",
              "\n",
              "  if (!files) {\n",
              "    return {\n",
              "      response: {\n",
              "        action: 'complete',\n",
              "      }\n",
              "    };\n",
              "  }\n",
              "\n",
              "  for (const file of files) {\n",
              "    const li = document.createElement('li');\n",
              "    li.append(span(file.name, {fontWeight: 'bold'}));\n",
              "    li.append(span(\n",
              "        `(${file.type || 'n/a'}) - ${file.size} bytes, ` +\n",
              "        `last modified: ${\n",
              "            file.lastModifiedDate ? file.lastModifiedDate.toLocaleDateString() :\n",
              "                                    'n/a'} - `));\n",
              "    const percent = span('0% done');\n",
              "    li.appendChild(percent);\n",
              "\n",
              "    outputElement.appendChild(li);\n",
              "\n",
              "    const fileDataPromise = new Promise((resolve) => {\n",
              "      const reader = new FileReader();\n",
              "      reader.onload = (e) => {\n",
              "        resolve(e.target.result);\n",
              "      };\n",
              "      reader.readAsArrayBuffer(file);\n",
              "    });\n",
              "    // Wait for the data to be ready.\n",
              "    let fileData = yield {\n",
              "      promise: fileDataPromise,\n",
              "      response: {\n",
              "        action: 'continue',\n",
              "      }\n",
              "    };\n",
              "\n",
              "    // Use a chunked sending to avoid message size limits. See b/62115660.\n",
              "    let position = 0;\n",
              "    do {\n",
              "      const length = Math.min(fileData.byteLength - position, MAX_PAYLOAD_SIZE);\n",
              "      const chunk = new Uint8Array(fileData, position, length);\n",
              "      position += length;\n",
              "\n",
              "      const base64 = btoa(String.fromCharCode.apply(null, chunk));\n",
              "      yield {\n",
              "        response: {\n",
              "          action: 'append',\n",
              "          file: file.name,\n",
              "          data: base64,\n",
              "        },\n",
              "      };\n",
              "\n",
              "      let percentDone = fileData.byteLength === 0 ?\n",
              "          100 :\n",
              "          Math.round((position / fileData.byteLength) * 100);\n",
              "      percent.textContent = `${percentDone}% done`;\n",
              "\n",
              "    } while (position < fileData.byteLength);\n",
              "  }\n",
              "\n",
              "  // All done.\n",
              "  yield {\n",
              "    response: {\n",
              "      action: 'complete',\n",
              "    }\n",
              "  };\n",
              "}\n",
              "\n",
              "scope.google = scope.google || {};\n",
              "scope.google.colab = scope.google.colab || {};\n",
              "scope.google.colab._files = {\n",
              "  _uploadFiles,\n",
              "  _uploadFilesContinue,\n",
              "};\n",
              "})(self);\n",
              "</script> "
            ]
          },
          "metadata": {}
        },
        {
          "output_type": "stream",
          "name": "stdout",
          "text": [
            "Saving kaggle.json to kaggle.json\n"
          ]
        }
      ]
    },
    {
      "cell_type": "code",
      "source": [
        "!kaggle datasets download -d sachinkumar413/alzheimer-mri-dataset"
      ],
      "metadata": {
        "colab": {
          "base_uri": "https://localhost:8080/"
        },
        "id": "4Sl3evryXlHR",
        "outputId": "66d0f6c8-cd25-4aa9-da9f-6a9ad87e5a91"
      },
      "execution_count": null,
      "outputs": [
        {
          "output_type": "stream",
          "name": "stdout",
          "text": [
            "Downloading alzheimer-mri-dataset.zip to /content\n",
            " 61% 17.0M/28.0M [00:00<00:00, 48.8MB/s]\n",
            "100% 28.0M/28.0M [00:00<00:00, 68.4MB/s]\n"
          ]
        }
      ]
    },
    {
      "cell_type": "code",
      "source": [
        "! mkdir all_data"
      ],
      "metadata": {
        "id": "IoRYsvTvX6M2"
      },
      "execution_count": null,
      "outputs": []
    },
    {
      "cell_type": "code",
      "source": [
        "! unzip /content/alzheimer-mri-dataset.zip -d all_data"
      ],
      "metadata": {
        "id": "jywda7SKX3Ok"
      },
      "execution_count": null,
      "outputs": []
    },
    {
      "cell_type": "markdown",
      "source": [
        "# Descripción conjuto de datos\n",
        "\n",
        "\n",
        "Se seleccionó una base de datos de la plataforma kaggle correspondiente a\n",
        "imágenes de resonancia magnética del cerebro de diferentes pacientes con ALzheimer y sin Alzheimer.\n",
        "\n",
        "El dataset consiste en 4 clases: 'Mild_Demented', 'Moderate_Demented', 'Non_Demented', 'Very_Mild_Demented'\n",
        "\n",
        "Se pretende hacer un modelo que pueda detectar  partir de las imágenes  de RM si tiene Alzheimer y de ser ese el caso, en qué etapa de su desarrollo de encuentra.\n",
        "\n",
        "La detección temprana de Alzheimer permite iniciar intervenciones y tratamientos lo antes posible, lo que puede ayudar a ralentizar la progresión de la enfermedad y mejorar la calidad de vida de los afectados.\n",
        "Así, mediante las imágenes de RM el modelo puede aprender a detectar cambios en la estructura del cerebro, como la reducción del tamaño del hipocampo, una región cerebral asociada con la memoria.\n",
        "\n",
        "Dado que los datos vienen separados en 4 carpetas, cada una correspondiente a una clase, se realizó el siguiente código para separar entre train,test y validation.\n",
        "\n",
        "De esta manera las base de datos se clasificará en 3 carpetas (train,test y validation), que a su vez se dividará en 4 subcarpetas más ('Mild_Demented', 'Moderate_Demented', 'Non_Demented', 'Very_Mild_Demented'). Así tendremo 1280 fotos para test, 1280 fotos para validation y 4605 fotos para train."
      ],
      "metadata": {
        "id": "NsPpG9LK-x8L"
      }
    },
    {
      "cell_type": "code",
      "source": [
        "import os\n",
        "from sklearn.model_selection import train_test_split\n",
        "import shutil\n",
        "from pathlib import Path\n",
        "dataset_path =Path('/content/all_data/Dataset')\n",
        "train_path =Path('/content/all_data/Dataset_modelo/train')\n",
        "val_path = Path('/content/all_data/Dataset_modelo/validation')\n",
        "test_path = Path('/content/all_data/Dataset_modelo/test')\n",
        "#Crear dir correspondientes\n",
        "os.makedirs('/content/all_data/Dataset_modelo/train', exist_ok=True)\n",
        "os.makedirs('/content/all_data/Dataset_modelo/test', exist_ok=True)\n",
        "os.makedirs('/content/all_data/Dataset_modelo/validation', exist_ok=True)"
      ],
      "metadata": {
        "id": "WmJF8xx7DAzu"
      },
      "execution_count": null,
      "outputs": []
    },
    {
      "cell_type": "code",
      "source": [
        "classes = os.listdir(dataset_path)\n",
        "for alz_class in classes:\n",
        "    class_path = os.path.join(dataset_path, alz_class)\n",
        "    images = os.listdir(class_path)\n",
        "    #dividir train en train y test\n",
        "    train_images, test_images = train_test_split(images, test_size=0.2, random_state=42)\n",
        "\n",
        "    # Dividir el set de train en train y val\n",
        "    train_images, val_images = train_test_split(train_images, test_size=0.1, random_state=42)\n",
        "\n",
        "    # Move images to the respective directories\n",
        "    for image in train_images:\n",
        "        source = os.path.join(class_path, image)\n",
        "        dest = os.path.join(train_path, alz_class, image) #train -> clase -> imagen\n",
        "        os.makedirs(os.path.dirname(dest), exist_ok=True) #crea el destino por si no existe\n",
        "        shutil.copy(source, dest)\n",
        "\n",
        "    for image in val_images:\n",
        "        src = os.path.join(class_path, image)\n",
        "        dest = os.path.join(val_path, alz_class, image)\n",
        "        os.makedirs(os.path.dirname(dest), exist_ok=True)\n",
        "        shutil.copy(src, dest)\n",
        "\n",
        "    for image in test_images:\n",
        "        src = os.path.join(class_path, image)\n",
        "        dest = os.path.join(test_path, alz_class, image)\n",
        "        os.makedirs(os.path.dirname(dest), exist_ok=True)\n",
        "        shutil.copy(src, dest)"
      ],
      "metadata": {
        "id": "p0vurS4vDHES"
      },
      "execution_count": null,
      "outputs": []
    },
    {
      "cell_type": "markdown",
      "source": [
        "#Preprocesamiento de datos\n",
        "\n",
        "Se separan los datos en 3 sets. Es importante notar que al establecer que el label_mode es categórico, su clase se representará de manera one hot encoded, por lo que para predicciones se deberá de convertir esa codificación para conocer su clase correspondiente."
      ],
      "metadata": {
        "id": "vQxBLH9C-g6J"
      }
    },
    {
      "cell_type": "code",
      "source": [
        "train_ds = keras.utils.image_dataset_from_directory(\n",
        "    '/content/all_data/Dataset_modelo/train',\n",
        "    labels=\"inferred\",\n",
        "    label_mode=\"categorical\",\n",
        "    class_names=None,\n",
        "    color_mode=\"rgb\",\n",
        "    batch_size=32,\n",
        "    image_size=(128, 128),\n",
        "    shuffle=True,\n",
        "    seed=42,\n",
        "    validation_split=None,\n",
        "    #subset=\"training\",\n",
        "    interpolation=\"bilinear\",\n",
        "    follow_links=False,\n",
        "    crop_to_aspect_ratio=False\n",
        ")"
      ],
      "metadata": {
        "colab": {
          "base_uri": "https://localhost:8080/"
        },
        "id": "vH9q2IvN1gaY",
        "outputId": "146b2e63-18ba-46a2-8955-d212c2148098"
      },
      "execution_count": null,
      "outputs": [
        {
          "output_type": "stream",
          "name": "stdout",
          "text": [
            "Found 4605 files belonging to 4 classes.\n"
          ]
        }
      ]
    },
    {
      "cell_type": "code",
      "source": [
        "test_ds = keras.utils.image_dataset_from_directory(\n",
        "    '/content/all_data/Dataset_modelo/test',\n",
        "    labels=\"inferred\",\n",
        "    label_mode=\"categorical\",\n",
        "    class_names=None,\n",
        "    color_mode=\"rgb\",\n",
        "    batch_size=32,\n",
        "    image_size=(128, 128),\n",
        "   # subset=\"validation\",\n",
        ")"
      ],
      "metadata": {
        "colab": {
          "base_uri": "https://localhost:8080/"
        },
        "id": "auUijNrk9zzj",
        "outputId": "089ba007-51cb-4d6c-f558-15de355d66b1"
      },
      "execution_count": null,
      "outputs": [
        {
          "output_type": "stream",
          "name": "stdout",
          "text": [
            "Found 1281 files belonging to 4 classes.\n"
          ]
        }
      ]
    },
    {
      "cell_type": "code",
      "source": [
        "val_ds = keras.utils.image_dataset_from_directory(\n",
        "    '/content/all_data/Dataset_modelo/validation',\n",
        "    labels=\"inferred\",\n",
        "    label_mode=\"categorical\",\n",
        "    class_names=None,\n",
        "    color_mode=\"rgb\",\n",
        "    batch_size=32,\n",
        "    image_size=(128, 128),\n",
        "    #subset=\"validation\",\n",
        "   )"
      ],
      "metadata": {
        "colab": {
          "base_uri": "https://localhost:8080/"
        },
        "id": "sLVrf-G_3QmS",
        "outputId": "02fe08fb-d11f-4f6b-a5da-70f52e17e554"
      },
      "execution_count": null,
      "outputs": [
        {
          "output_type": "stream",
          "name": "stdout",
          "text": [
            "Found 1280 files belonging to 4 classes.\n"
          ]
        }
      ]
    },
    {
      "cell_type": "code",
      "source": [
        "#Se observan las 4 clases que identificó al cargar los datos del directorio.\n",
        "class_names = train_ds.class_names\n",
        "print(class_names)"
      ],
      "metadata": {
        "id": "Wzogk9I23Z8d",
        "colab": {
          "base_uri": "https://localhost:8080/"
        },
        "outputId": "0efc0cb5-d277-4100-b615-133d84caf720"
      },
      "execution_count": null,
      "outputs": [
        {
          "output_type": "stream",
          "name": "stdout",
          "text": [
            "['Mild_Demented', 'Moderate_Demented', 'Non_Demented', 'Very_Mild_Demented']\n"
          ]
        }
      ]
    },
    {
      "cell_type": "code",
      "source": [
        "# Mostrar las primeras 9 fotos del primer batch, desplegarlas y mostrar la etiqueta correspondiente.\n",
        "\n",
        "for images, labels in train_ds.take(1): #tomar primer batch\n",
        "    for i in range(9):\n",
        "        image = images[i]\n",
        "        label = labels[i]\n",
        "\n",
        "        # Convertir de one hot encoded a respectiva clase\n",
        "        class_index = tf.argmax(label)\n",
        "        class_name = class_names[class_index]\n",
        "\n",
        "        plt.subplot(3, 3, i + 1)\n",
        "        plt.imshow(image.numpy().astype(\"uint8\"))\n",
        "        plt.title(class_name)\n",
        "        plt.axis(\"off\")\n",
        "\n",
        "plt.show()\n"
      ],
      "metadata": {
        "id": "5HZHj2INX_Hm",
        "colab": {
          "base_uri": "https://localhost:8080/",
          "height": 428
        },
        "outputId": "5df72c81-f580-4f9d-ed71-cda1651e13ff"
      },
      "execution_count": null,
      "outputs": [
        {
          "output_type": "display_data",
          "data": {
            "text/plain": [
              "<Figure size 640x480 with 9 Axes>"
            ],
            "image/png": "[encoded data removed]"
          },
          "metadata": {}
        }
      ]
    },
    {
      "cell_type": "markdown",
      "source": [
        "El image_batch es un tensor de la forma (32, 128, 128, 3). Lo que quiere decir que es un batch de 32 imágenes de tamaño 128 x 128 x 3.  Así mismo, label_batch es un tensor de la forma (32, 4) correspondiente a las etiquetas de las 32 imágenes de 4 clases."
      ],
      "metadata": {
        "id": "JdOaLhiSBHmU"
      }
    },
    {
      "cell_type": "code",
      "source": [
        "for image_batch, labels_batch in train_ds:\n",
        "  print(image_batch.shape)\n",
        "  print(labels_batch.shape)\n",
        "  break"
      ],
      "metadata": {
        "id": "AFCuho9rbmzt",
        "colab": {
          "base_uri": "https://localhost:8080/"
        },
        "outputId": "048e827e-3a9c-4f9f-af62-f8097a7976fb"
      },
      "execution_count": null,
      "outputs": [
        {
          "output_type": "stream",
          "name": "stdout",
          "text": [
            "(32, 128, 128, 3)\n",
            "(32, 4)\n"
          ]
        }
      ]
    },
    {
      "cell_type": "markdown",
      "source": [
        "# Modelo 1"
      ],
      "metadata": {
        "id": "IYxX_IGN-shq"
      }
    },
    {
      "cell_type": "markdown",
      "source": [
        "Al ser las imágenes de dimensión 128 x 128 x 3, se indica que es RGB, dichos valores están en el rango [0, 255] . Esto no es ideal para una red neuronalse debe buscar que sus valores de entrada sean pequeños. Por ende, en el modelo se estandarizará los valores para que estén en el rango [0, 1].\n",
        "\n",
        "EL modelo está compuesto de la siguiente forma:\n",
        "* Rescaling en el rango [0, 1]\n",
        "* Capa de convolución\n",
        "* Max pooling\n",
        "* Capa de convolución\n",
        "* Max pooling\n",
        "* Flatten\n",
        "* Capa densa\n",
        "\n",
        "La selección de la cantidad de filtros en las capas de convolución va incrementado como se puede notar (16 y luego 32) , esto es debido a que las capas más superficiales suelen detecatr aptrones de bajo nivel como bordes, mientras que las capas más profundas y complejas aprenden patrones más robustos. Así mismo en todos los casos el kernel es de 3x3, queremos que la imagen se mantenga del mismo tamaño, por lo que el padding = 'same'. Finalmente, las activación que se selecionó es 'relu' ya que al introducir no linealidad puede aprender patrones más complejos.\n",
        "\n",
        "Para la capa de MaxPooling2D indica que utiliza un filtro de 2x2 para realizar la agrupación máxima y reducir dimensionalidad.\n",
        "\n",
        "Posteriormente se pasa a una capa flatten para cambiar la estructura a un solo vector que se pasará a la capap densa totalmente conectada que clasificará. Esta capa densa tendrá la misma cantidad de neuronas que de clases ya que representa la probabilidad de que pertenezca a dicha clase. Para esta capa de salida se utiliza la función de activación 'softmax' ya que es un clasificación multiclase."
      ],
      "metadata": {
        "id": "u-wujwyTeLnG"
      }
    },
    {
      "cell_type": "code",
      "source": [
        "keras.backend.clear_session()\n",
        "tf.random.set_seed(42)\n",
        "np.random.seed(42)"
      ],
      "metadata": {
        "id": "6VvpJmW9cf8N"
      },
      "execution_count": null,
      "outputs": []
    },
    {
      "cell_type": "code",
      "source": [
        "from keras.models import Sequential\n",
        "from keras.layers import Dense, Flatten, Conv2D, MaxPooling2D\n",
        "from keras import layers\n",
        "num_classes = 4\n",
        "\n",
        "model = Sequential([\n",
        "  layers.Rescaling(1./255, input_shape=(128, 128, 3)),\n",
        "  layers.Conv2D(16, 3, padding='same', activation='relu'),\n",
        "  layers.MaxPooling2D(2),\n",
        "  layers.Conv2D(32, 3, padding='same', activation='relu'),\n",
        "  layers.MaxPooling2D(2),\n",
        "  layers.Flatten(),\n",
        "  layers.Dense(num_classes, activation='softmax')\n",
        "])"
      ],
      "metadata": {
        "id": "J02lRS9pkBHh"
      },
      "execution_count": null,
      "outputs": []
    },
    {
      "cell_type": "markdown",
      "source": [
        "Se establece un early stopping donde el mínimo cambio de mejora sea de 0.015 en el accuracy, y si el modelo no presenta mejora por dos épocas seguidas, el entrenamiento para.\n",
        "\n",
        "Así mismo se utiliza como optimizador Adam con learning rate = 0.0005, las función de pérdida 'categorical_crossentropy' ya que es multiclase y están codificadas en one hot  y como métrica de evaluación 'accuracy' y 'mse'.\n",
        "\n",
        "Posteriomente, se corre el modelo con 20 épocas base, pero parará antes si ya no encuentra mejora significativa."
      ],
      "metadata": {
        "id": "lj8OXPIvHmL_"
      }
    },
    {
      "cell_type": "code",
      "source": [
        "callback=tf.keras.callbacks.EarlyStopping(\n",
        "    monitor=\"accuracy\",\n",
        "    min_delta=0.015,\n",
        "    patience=2,\n",
        "    verbose=1,\n",
        "    mode=\"auto\",\n",
        "    baseline=0.8,\n",
        "    restore_best_weights=False)"
      ],
      "metadata": {
        "id": "3drv-Z9PZzje"
      },
      "execution_count": null,
      "outputs": []
    },
    {
      "cell_type": "code",
      "source": [
        "opt = tf.keras.optimizers.Adam(learning_rate=.0005)\n",
        "mae = tf.keras.metrics.MeanAbsoluteError()\n",
        "\n",
        "model.compile(optimizer=opt, loss='categorical_crossentropy', metrics=['accuracy', mae])\n",
        "# since i am using one hot encoded lables from my label_mode = 'categorical'"
      ],
      "metadata": {
        "id": "lRnhp_oAkKUV"
      },
      "execution_count": null,
      "outputs": []
    },
    {
      "cell_type": "code",
      "source": [
        "history = model.fit(train_ds, validation_data= val_ds, epochs=20, callbacks=[callback])"
      ],
      "metadata": {
        "id": "VNgTBHElkNJ-",
        "colab": {
          "base_uri": "https://localhost:8080/"
        },
        "outputId": "fbc2fb92-f5a3-4859-f5af-446d4d335675"
      },
      "execution_count": null,
      "outputs": [
        {
          "output_type": "stream",
          "name": "stdout",
          "text": [
            "Epoch 1/20\n",
            "144/144 [==============================] - 57s 390ms/step - loss: 0.9979 - accuracy: 0.5264 - mean_absolute_error: 0.2899 - val_loss: 0.8948 - val_accuracy: 0.5938 - val_mean_absolute_error: 0.2675\n",
            "Epoch 2/20\n",
            "144/144 [==============================] - 57s 392ms/step - loss: 0.8425 - accuracy: 0.6280 - mean_absolute_error: 0.2552 - val_loss: 0.7826 - val_accuracy: 0.6555 - val_mean_absolute_error: 0.2406\n",
            "Epoch 3/20\n",
            "144/144 [==============================] - 60s 413ms/step - loss: 0.6560 - accuracy: 0.7240 - mean_absolute_error: 0.2088 - val_loss: 0.5862 - val_accuracy: 0.7641 - val_mean_absolute_error: 0.1833\n",
            "Epoch 4/20\n",
            "144/144 [==============================] - 58s 406ms/step - loss: 0.4692 - accuracy: 0.8319 - mean_absolute_error: 0.1577 - val_loss: 0.4364 - val_accuracy: 0.8227 - val_mean_absolute_error: 0.1433\n",
            "Epoch 5/20\n",
            "144/144 [==============================] - 59s 408ms/step - loss: 0.3255 - accuracy: 0.8903 - mean_absolute_error: 0.1133 - val_loss: 0.3252 - val_accuracy: 0.8836 - val_mean_absolute_error: 0.1125\n",
            "Epoch 6/20\n",
            "144/144 [==============================] - 59s 409ms/step - loss: 0.2396 - accuracy: 0.9262 - mean_absolute_error: 0.0860 - val_loss: 0.2211 - val_accuracy: 0.9375 - val_mean_absolute_error: 0.0798\n",
            "Epoch 7/20\n",
            "144/144 [==============================] - 63s 435ms/step - loss: 0.1700 - accuracy: 0.9544 - mean_absolute_error: 0.0637 - val_loss: 0.2441 - val_accuracy: 0.9078 - val_mean_absolute_error: 0.0747\n",
            "Epoch 8/20\n",
            "144/144 [==============================] - 62s 432ms/step - loss: 0.1250 - accuracy: 0.9685 - mean_absolute_error: 0.0482 - val_loss: 0.1381 - val_accuracy: 0.9594 - val_mean_absolute_error: 0.0493\n",
            "Epoch 9/20\n",
            "144/144 [==============================] - 61s 423ms/step - loss: 0.0900 - accuracy: 0.9789 - mean_absolute_error: 0.0359 - val_loss: 0.1166 - val_accuracy: 0.9711 - val_mean_absolute_error: 0.0399\n",
            "Epoch 10/20\n",
            "144/144 [==============================] - 61s 426ms/step - loss: 0.0661 - accuracy: 0.9885 - mean_absolute_error: 0.0273 - val_loss: 0.1255 - val_accuracy: 0.9617 - val_mean_absolute_error: 0.0380\n",
            "Epoch 11/20\n",
            "144/144 [==============================] - 58s 403ms/step - loss: 0.0444 - accuracy: 0.9950 - mean_absolute_error: 0.0191 - val_loss: 0.0841 - val_accuracy: 0.9812 - val_mean_absolute_error: 0.0261\n",
            "Epoch 12/20\n",
            "144/144 [==============================] - 64s 448ms/step - loss: 0.0275 - accuracy: 0.9987 - mean_absolute_error: 0.0126 - val_loss: 0.0649 - val_accuracy: 0.9852 - val_mean_absolute_error: 0.0199\n",
            "Epoch 13/20\n",
            "144/144 [==============================] - 58s 404ms/step - loss: 0.0225 - accuracy: 0.9983 - mean_absolute_error: 0.0103 - val_loss: 0.0624 - val_accuracy: 0.9852 - val_mean_absolute_error: 0.0180\n",
            "Epoch 13: early stopping\n"
          ]
        }
      ]
    },
    {
      "cell_type": "markdown",
      "source": [
        "Se corrieron 13 épocas en las que hubo cambios significativos en el accuracy"
      ],
      "metadata": {
        "id": "weN8D8ctItT_"
      }
    },
    {
      "cell_type": "code",
      "source": [
        "import pandas as pd\n",
        "df = pd.DataFrame(history.history)\n",
        "df"
      ],
      "metadata": {
        "id": "nqEFgCpsqE3r",
        "colab": {
          "base_uri": "https://localhost:8080/",
          "height": 477
        },
        "outputId": "9c145f2e-5ddb-4a22-bb1e-e01fe4925d5b"
      },
      "execution_count": null,
      "outputs": [
        {
          "output_type": "execute_result",
          "data": {
            "text/plain": [
              "        loss  accuracy  mean_absolute_error  val_loss  val_accuracy  \\\n",
              "0   0.997890  0.526384             0.289853  0.894758      0.593750   \n",
              "1   0.842549  0.628013             0.255247  0.782603      0.655469   \n",
              "2   0.655968  0.723996             0.208750  0.586202      0.764063   \n",
              "3   0.469227  0.831922             0.157694  0.436402      0.822656   \n",
              "4   0.325481  0.890337             0.113341  0.325180      0.883594   \n",
              "5   0.239629  0.926167             0.086037  0.221070      0.937500   \n",
              "6   0.169973  0.954397             0.063671  0.244116      0.907812   \n",
              "7   0.124964  0.968512             0.048186  0.138108      0.959375   \n",
              "8   0.089967  0.978936             0.035889  0.116551      0.971094   \n",
              "9   0.066055  0.988491             0.027266  0.125494      0.961719   \n",
              "10  0.044413  0.995005             0.019113  0.084100      0.981250   \n",
              "11  0.027495  0.998697             0.012560  0.064926      0.985156   \n",
              "12  0.022489  0.998263             0.010293  0.062361      0.985156   \n",
              "\n",
              "    val_mean_absolute_error  \n",
              "0                  0.267535  \n",
              "1                  0.240607  \n",
              "2                  0.183269  \n",
              "3                  0.143336  \n",
              "4                  0.112453  \n",
              "5                  0.079764  \n",
              "6                  0.074744  \n",
              "7                  0.049272  \n",
              "8                  0.039904  \n",
              "9                  0.038004  \n",
              "10                 0.026096  \n",
              "11                 0.019922  \n",
              "12                 0.018027  "
            ],
            "text/html": [
              "\n",
              "  <div id=\"df-fc1f041a-08d3-42fd-a2f8-14715ff3d6ed\" class=\"colab-df-container\">\n",
              "    <div>\n",
              "<style scoped>\n",
              "    .dataframe tbody tr th:only-of-type {\n",
              "        vertical-align: middle;\n",
              "    }\n",
              "\n",
              "    .dataframe tbody tr th {\n",
              "        vertical-align: top;\n",
              "    }\n",
              "\n",
              "    .dataframe thead th {\n",
              "        text-align: right;\n",
              "    }\n",
              "</style>\n",
              "<table border=\"1\" class=\"dataframe\">\n",
              "  <thead>\n",
              "    <tr style=\"text-align: right;\">\n",
              "      <th></th>\n",
              "      <th>loss</th>\n",
              "      <th>accuracy</th>\n",
              "      <th>mean_absolute_error</th>\n",
              "      <th>val_loss</th>\n",
              "      <th>val_accuracy</th>\n",
              "      <th>val_mean_absolute_error</th>\n",
              "    </tr>\n",
              "  </thead>\n",
              "  <tbody>\n",
              "    <tr>\n",
              "      <th>0</th>\n",
              "      <td>0.997890</td>\n",
              "      <td>0.526384</td>\n",
              "      <td>0.289853</td>\n",
              "      <td>0.894758</td>\n",
              "      <td>0.593750</td>\n",
              "      <td>0.267535</td>\n",
              "    </tr>\n",
              "    <tr>\n",
              "      <th>1</th>\n",
              "      <td>0.842549</td>\n",
              "      <td>0.628013</td>\n",
              "      <td>0.255247</td>\n",
              "      <td>0.782603</td>\n",
              "      <td>0.655469</td>\n",
              "      <td>0.240607</td>\n",
              "    </tr>\n",
              "    <tr>\n",
              "      <th>2</th>\n",
              "      <td>0.655968</td>\n",
              "      <td>0.723996</td>\n",
              "      <td>0.208750</td>\n",
              "      <td>0.586202</td>\n",
              "      <td>0.764063</td>\n",
              "      <td>0.183269</td>\n",
              "    </tr>\n",
              "    <tr>\n",
              "      <th>3</th>\n",
              "      <td>0.469227</td>\n",
              "      <td>0.831922</td>\n",
              "      <td>0.157694</td>\n",
              "      <td>0.436402</td>\n",
              "      <td>0.822656</td>\n",
              "      <td>0.143336</td>\n",
              "    </tr>\n",
              "    <tr>\n",
              "      <th>4</th>\n",
              "      <td>0.325481</td>\n",
              "      <td>0.890337</td>\n",
              "      <td>0.113341</td>\n",
              "      <td>0.325180</td>\n",
              "      <td>0.883594</td>\n",
              "      <td>0.112453</td>\n",
              "    </tr>\n",
              "    <tr>\n",
              "      <th>5</th>\n",
              "      <td>0.239629</td>\n",
              "      <td>0.926167</td>\n",
              "      <td>0.086037</td>\n",
              "      <td>0.221070</td>\n",
              "      <td>0.937500</td>\n",
              "      <td>0.079764</td>\n",
              "    </tr>\n",
              "    <tr>\n",
              "      <th>6</th>\n",
              "      <td>0.169973</td>\n",
              "      <td>0.954397</td>\n",
              "      <td>0.063671</td>\n",
              "      <td>0.244116</td>\n",
              "      <td>0.907812</td>\n",
              "      <td>0.074744</td>\n",
              "    </tr>\n",
              "    <tr>\n",
              "      <th>7</th>\n",
              "      <td>0.124964</td>\n",
              "      <td>0.968512</td>\n",
              "      <td>0.048186</td>\n",
              "      <td>0.138108</td>\n",
              "      <td>0.959375</td>\n",
              "      <td>0.049272</td>\n",
              "    </tr>\n",
              "    <tr>\n",
              "      <th>8</th>\n",
              "      <td>0.089967</td>\n",
              "      <td>0.978936</td>\n",
              "      <td>0.035889</td>\n",
              "      <td>0.116551</td>\n",
              "      <td>0.971094</td>\n",
              "      <td>0.039904</td>\n",
              "    </tr>\n",
              "    <tr>\n",
              "      <th>9</th>\n",
              "      <td>0.066055</td>\n",
              "      <td>0.988491</td>\n",
              "      <td>0.027266</td>\n",
              "      <td>0.125494</td>\n",
              "      <td>0.961719</td>\n",
              "      <td>0.038004</td>\n",
              "    </tr>\n",
              "    <tr>\n",
              "      <th>10</th>\n",
              "      <td>0.044413</td>\n",
              "      <td>0.995005</td>\n",
              "      <td>0.019113</td>\n",
              "      <td>0.084100</td>\n",
              "      <td>0.981250</td>\n",
              "      <td>0.026096</td>\n",
              "    </tr>\n",
              "    <tr>\n",
              "      <th>11</th>\n",
              "      <td>0.027495</td>\n",
              "      <td>0.998697</td>\n",
              "      <td>0.012560</td>\n",
              "      <td>0.064926</td>\n",
              "      <td>0.985156</td>\n",
              "      <td>0.019922</td>\n",
              "    </tr>\n",
              "    <tr>\n",
              "      <th>12</th>\n",
              "      <td>0.022489</td>\n",
              "      <td>0.998263</td>\n",
              "      <td>0.010293</td>\n",
              "      <td>0.062361</td>\n",
              "      <td>0.985156</td>\n",
              "      <td>0.018027</td>\n",
              "    </tr>\n",
              "  </tbody>\n",
              "</table>\n",
              "</div>\n",
              "    <div class=\"colab-df-buttons\">\n",
              "\n",
              "  <div class=\"colab-df-container\">\n",
              "    <button class=\"colab-df-convert\" onclick=\"convertToInteractive('df-fc1f041a-08d3-42fd-a2f8-14715ff3d6ed')\"\n",
              "            title=\"Convert this dataframe to an interactive table.\"\n",
              "            style=\"display:none;\">\n",
              "\n",
              "  <svg xmlns=\"http://www.w3.org/2000/svg\" height=\"24px\" viewBox=\"0 -960 960 960\">\n",
              "    <path d=\"M120-120v-720h720v720H120Zm60-500h600v-160H180v160Zm220 220h160v-160H400v160Zm0 220h160v-160H400v160ZM180-400h160v-160H180v160Zm440 0h160v-160H620v160ZM180-180h160v-160H180v160Zm440 0h160v-160H620v160Z\"/>\n",
              "  </svg>\n",
              "    </button>\n",
              "\n",
              "  <style>\n",
              "    .colab-df-container {\n",
              "      display:flex;\n",
              "      gap: 12px;\n",
              "    }\n",
              "\n",
              "    .colab-df-convert {\n",
              "      background-color: #E8F0FE;\n",
              "      border: none;\n",
              "      border-radius: 50%;\n",
              "      cursor: pointer;\n",
              "      display: none;\n",
              "      fill: #1967D2;\n",
              "      height: 32px;\n",
              "      padding: 0 0 0 0;\n",
              "      width: 32px;\n",
              "    }\n",
              "\n",
              "    .colab-df-convert:hover {\n",
              "      background-color: #E2EBFA;\n",
              "      box-shadow: 0px 1px 2px rgba(60, 64, 67, 0.3), 0px 1px 3px 1px rgba(60, 64, 67, 0.15);\n",
              "      fill: #174EA6;\n",
              "    }\n",
              "\n",
              "    .colab-df-buttons div {\n",
              "      margin-bottom: 4px;\n",
              "    }\n",
              "\n",
              "    [theme=dark] .colab-df-convert {\n",
              "      background-color: #3B4455;\n",
              "      fill: #D2E3FC;\n",
              "    }\n",
              "\n",
              "    [theme=dark] .colab-df-convert:hover {\n",
              "      background-color: #434B5C;\n",
              "      box-shadow: 0px 1px 3px 1px rgba(0, 0, 0, 0.15);\n",
              "      filter: drop-shadow(0px 1px 2px rgba(0, 0, 0, 0.3));\n",
              "      fill: #FFFFFF;\n",
              "    }\n",
              "  </style>\n",
              "\n",
              "    <script>\n",
              "      const buttonEl =\n",
              "        document.querySelector('#df-fc1f041a-08d3-42fd-a2f8-14715ff3d6ed button.colab-df-convert');\n",
              "      buttonEl.style.display =\n",
              "        google.colab.kernel.accessAllowed ? 'block' : 'none';\n",
              "\n",
              "      async function convertToInteractive(key) {\n",
              "        const element = document.querySelector('#df-fc1f041a-08d3-42fd-a2f8-14715ff3d6ed');\n",
              "        const dataTable =\n",
              "          await google.colab.kernel.invokeFunction('convertToInteractive',\n",
              "                                                    [key], {});\n",
              "        if (!dataTable) return;\n",
              "\n",
              "        const docLinkHtml = 'Like what you see? Visit the ' +\n",
              "          '<a target=\"_blank\" href=https://colab.research.google.com/notebooks/data_table.ipynb>data table notebook</a>'\n",
              "          + ' to learn more about interactive tables.';\n",
              "        element.innerHTML = '';\n",
              "        dataTable['output_type'] = 'display_data';\n",
              "        await google.colab.output.renderOutput(dataTable, element);\n",
              "        const docLink = document.createElement('div');\n",
              "        docLink.innerHTML = docLinkHtml;\n",
              "        element.appendChild(docLink);\n",
              "      }\n",
              "    </script>\n",
              "  </div>\n",
              "\n",
              "\n",
              "<div id=\"df-0f921598-cb08-4711-aaa7-3011dbb6ae0a\">\n",
              "  <button class=\"colab-df-quickchart\" onclick=\"quickchart('df-0f921598-cb08-4711-aaa7-3011dbb6ae0a')\"\n",
              "            title=\"Suggest charts\"\n",
              "            style=\"display:none;\">\n",
              "\n",
              "<svg xmlns=\"http://www.w3.org/2000/svg\" height=\"24px\"viewBox=\"0 0 24 24\"\n",
              "     width=\"24px\">\n",
              "    <g>\n",
              "        <path d=\"M19 3H5c-1.1 0-2 .9-2 2v14c0 1.1.9 2 2 2h14c1.1 0 2-.9 2-2V5c0-1.1-.9-2-2-2zM9 17H7v-7h2v7zm4 0h-2V7h2v10zm4 0h-2v-4h2v4z\"/>\n",
              "    </g>\n",
              "</svg>\n",
              "  </button>\n",
              "\n",
              "<style>\n",
              "  .colab-df-quickchart {\n",
              "      --bg-color: #E8F0FE;\n",
              "      --fill-color: #1967D2;\n",
              "      --hover-bg-color: #E2EBFA;\n",
              "      --hover-fill-color: #174EA6;\n",
              "      --disabled-fill-color: #AAA;\n",
              "      --disabled-bg-color: #DDD;\n",
              "  }\n",
              "\n",
              "  [theme=dark] .colab-df-quickchart {\n",
              "      --bg-color: #3B4455;\n",
              "      --fill-color: #D2E3FC;\n",
              "      --hover-bg-color: #434B5C;\n",
              "      --hover-fill-color: #FFFFFF;\n",
              "      --disabled-bg-color: #3B4455;\n",
              "      --disabled-fill-color: #666;\n",
              "  }\n",
              "\n",
              "  .colab-df-quickchart {\n",
              "    background-color: var(--bg-color);\n",
              "    border: none;\n",
              "    border-radius: 50%;\n",
              "    cursor: pointer;\n",
              "    display: none;\n",
              "    fill: var(--fill-color);\n",
              "    height: 32px;\n",
              "    padding: 0;\n",
              "    width: 32px;\n",
              "  }\n",
              "\n",
              "  .colab-df-quickchart:hover {\n",
              "    background-color: var(--hover-bg-color);\n",
              "    box-shadow: 0 1px 2px rgba(60, 64, 67, 0.3), 0 1px 3px 1px rgba(60, 64, 67, 0.15);\n",
              "    fill: var(--button-hover-fill-color);\n",
              "  }\n",
              "\n",
              "  .colab-df-quickchart-complete:disabled,\n",
              "  .colab-df-quickchart-complete:disabled:hover {\n",
              "    background-color: var(--disabled-bg-color);\n",
              "    fill: var(--disabled-fill-color);\n",
              "    box-shadow: none;\n",
              "  }\n",
              "\n",
              "  .colab-df-spinner {\n",
              "    border: 2px solid var(--fill-color);\n",
              "    border-color: transparent;\n",
              "    border-bottom-color: var(--fill-color);\n",
              "    animation:\n",
              "      spin 1s steps(1) infinite;\n",
              "  }\n",
              "\n",
              "  @keyframes spin {\n",
              "    0% {\n",
              "      border-color: transparent;\n",
              "      border-bottom-color: var(--fill-color);\n",
              "      border-left-color: var(--fill-color);\n",
              "    }\n",
              "    20% {\n",
              "      border-color: transparent;\n",
              "      border-left-color: var(--fill-color);\n",
              "      border-top-color: var(--fill-color);\n",
              "    }\n",
              "    30% {\n",
              "      border-color: transparent;\n",
              "      border-left-color: var(--fill-color);\n",
              "      border-top-color: var(--fill-color);\n",
              "      border-right-color: var(--fill-color);\n",
              "    }\n",
              "    40% {\n",
              "      border-color: transparent;\n",
              "      border-right-color: var(--fill-color);\n",
              "      border-top-color: var(--fill-color);\n",
              "    }\n",
              "    60% {\n",
              "      border-color: transparent;\n",
              "      border-right-color: var(--fill-color);\n",
              "    }\n",
              "    80% {\n",
              "      border-color: transparent;\n",
              "      border-right-color: var(--fill-color);\n",
              "      border-bottom-color: var(--fill-color);\n",
              "    }\n",
              "    90% {\n",
              "      border-color: transparent;\n",
              "      border-bottom-color: var(--fill-color);\n",
              "    }\n",
              "  }\n",
              "</style>\n",
              "\n",
              "  <script>\n",
              "    async function quickchart(key) {\n",
              "      const quickchartButtonEl =\n",
              "        document.querySelector('#' + key + ' button');\n",
              "      quickchartButtonEl.disabled = true;  // To prevent multiple clicks.\n",
              "      quickchartButtonEl.classList.add('colab-df-spinner');\n",
              "      try {\n",
              "        const charts = await google.colab.kernel.invokeFunction(\n",
              "            'suggestCharts', [key], {});\n",
              "      } catch (error) {\n",
              "        console.error('Error during call to suggestCharts:', error);\n",
              "      }\n",
              "      quickchartButtonEl.classList.remove('colab-df-spinner');\n",
              "      quickchartButtonEl.classList.add('colab-df-quickchart-complete');\n",
              "    }\n",
              "    (() => {\n",
              "      let quickchartButtonEl =\n",
              "        document.querySelector('#df-0f921598-cb08-4711-aaa7-3011dbb6ae0a button');\n",
              "      quickchartButtonEl.style.display =\n",
              "        google.colab.kernel.accessAllowed ? 'block' : 'none';\n",
              "    })();\n",
              "  </script>\n",
              "</div>\n",
              "    </div>\n",
              "  </div>\n"
            ]
          },
          "metadata": {},
          "execution_count": 53
        }
      ]
    },
    {
      "cell_type": "markdown",
      "source": [
        "Podemos apreciar como la pérdida va disminuyendo a lo alrgho de cada época. Así mismo, el accuracy y el accuracy del set de validación incrementan y en las últimas épocas se puede ver cómo se mantiene similar tanto accuracy de entrenamiento como de validación por lo que podría sugerir que no presenta overfitting."
      ],
      "metadata": {
        "id": "S5W1RIibKjx5"
      }
    },
    {
      "cell_type": "code",
      "source": [
        "# Make a plot for the loss\n",
        "df.plot(y=[\"loss\", \"val_loss\"], title=\"Loss vs Epoch\")"
      ],
      "metadata": {
        "id": "-dzMsuwKqJry",
        "colab": {
          "base_uri": "https://localhost:8080/",
          "height": 470
        },
        "outputId": "15bb86ec-9ed2-4f8b-fe3b-237b7f39b107"
      },
      "execution_count": null,
      "outputs": [
        {
          "output_type": "execute_result",
          "data": {
            "text/plain": [
              "<Axes: title={'center': 'Loss vs Epoch'}>"
            ]
          },
          "metadata": {},
          "execution_count": 54
        },
        {
          "output_type": "display_data",
          "data": {
            "text/plain": [
              "<Figure size 640x480 with 1 Axes>"
            ],
            "image/png": "[encoded data removed]"
          },
          "metadata": {}
        }
      ]
    },
    {
      "cell_type": "code",
      "source": [
        "# Make a plot for the accuracy\n",
        "\n",
        "df.plot(y=[\"accuracy\", \"val_accuracy\"], title=\"categorical_accuracy vs Epoch\")"
      ],
      "metadata": {
        "id": "F6pGHlvtqMs2",
        "colab": {
          "base_uri": "https://localhost:8080/",
          "height": 470
        },
        "outputId": "793a4c64-d9a1-4e04-a4f6-2868c1c896f6"
      },
      "execution_count": null,
      "outputs": [
        {
          "output_type": "execute_result",
          "data": {
            "text/plain": [
              "<Axes: title={'center': 'categorical_accuracy vs Epoch'}>"
            ]
          },
          "metadata": {},
          "execution_count": 55
        },
        {
          "output_type": "display_data",
          "data": {
            "text/plain": [
              "<Figure size 640x480 with 1 Axes>"
            ],
            "image/png": "[encoded data removed]"
          },
          "metadata": {}
        }
      ]
    },
    {
      "cell_type": "markdown",
      "source": [
        "## Predicciones"
      ],
      "metadata": {
        "id": "xQ2ZcTOatw69"
      }
    },
    {
      "cell_type": "code",
      "source": [
        "from sklearn.metrics import classification_report\n",
        "import numpy as np\n",
        "predictions = []\n",
        "true_labels = []\n",
        "\n",
        "for images, labels in test_ds:\n",
        "    predictions_batch = model.predict(images)\n",
        "    predictions.extend(predictions_batch)\n",
        "    true_labels.extend(labels)\n",
        "\n",
        "\n",
        "predicted_classes = np.argmax(predictions, axis=1)\n",
        "true_classes = np.argmax(true_labels, axis=1)\n",
        "\n",
        "# Classification report\n",
        "confusion_mat = classification_report(true_classes, predicted_classes)\n",
        "print(confusion_mat)"
      ],
      "metadata": {
        "id": "XRnw6Er0twLU",
        "colab": {
          "base_uri": "https://localhost:8080/"
        },
        "outputId": "56595900-819a-41e8-c593-3d31e42d659f"
      },
      "execution_count": null,
      "outputs": [
        {
          "output_type": "stream",
          "name": "stdout",
          "text": [
            "1/1 [==============================] - 0s 169ms/step\n",
            "1/1 [==============================] - 0s 125ms/step\n",
            "1/1 [==============================] - 0s 115ms/step\n",
            "1/1 [==============================] - 0s 128ms/step\n",
            "1/1 [==============================] - 0s 116ms/step\n",
            "1/1 [==============================] - 0s 113ms/step\n",
            "1/1 [==============================] - 0s 115ms/step\n",
            "1/1 [==============================] - 0s 116ms/step\n",
            "1/1 [==============================] - 0s 118ms/step\n",
            "1/1 [==============================] - 0s 128ms/step\n",
            "1/1 [==============================] - 0s 111ms/step\n",
            "1/1 [==============================] - 0s 117ms/step\n",
            "1/1 [==============================] - 0s 114ms/step\n",
            "1/1 [==============================] - 0s 132ms/step\n",
            "1/1 [==============================] - 0s 116ms/step\n",
            "1/1 [==============================] - 0s 122ms/step\n",
            "1/1 [==============================] - 0s 120ms/step\n",
            "1/1 [==============================] - 0s 112ms/step\n",
            "1/1 [==============================] - 0s 114ms/step\n",
            "1/1 [==============================] - 0s 118ms/step\n",
            "1/1 [==============================] - 0s 112ms/step\n",
            "1/1 [==============================] - 0s 120ms/step\n",
            "1/1 [==============================] - 0s 113ms/step\n",
            "1/1 [==============================] - 0s 112ms/step\n",
            "1/1 [==============================] - 0s 111ms/step\n",
            "1/1 [==============================] - 0s 114ms/step\n",
            "1/1 [==============================] - 0s 115ms/step\n",
            "1/1 [==============================] - 0s 117ms/step\n",
            "1/1 [==============================] - 0s 116ms/step\n",
            "1/1 [==============================] - 0s 111ms/step\n",
            "1/1 [==============================] - 0s 113ms/step\n",
            "1/1 [==============================] - 0s 113ms/step\n",
            "1/1 [==============================] - 0s 113ms/step\n",
            "1/1 [==============================] - 0s 130ms/step\n",
            "1/1 [==============================] - 0s 201ms/step\n",
            "1/1 [==============================] - 0s 182ms/step\n",
            "1/1 [==============================] - 0s 182ms/step\n",
            "1/1 [==============================] - 0s 236ms/step\n",
            "1/1 [==============================] - 0s 192ms/step\n",
            "1/1 [==============================] - 0s 215ms/step\n",
            "1/1 [==============================] - 0s 128ms/step\n",
            "              precision    recall  f1-score   support\n",
            "\n",
            "           0       0.99      0.93      0.96       180\n",
            "           1       1.00      1.00      1.00        13\n",
            "           2       0.98      0.97      0.97       640\n",
            "           3       0.94      0.98      0.96       448\n",
            "\n",
            "    accuracy                           0.97      1281\n",
            "   macro avg       0.98      0.97      0.97      1281\n",
            "weighted avg       0.97      0.97      0.97      1281\n",
            "\n"
          ]
        }
      ]
    },
    {
      "cell_type": "code",
      "source": [
        "from sklearn.metrics import confusion_matrix\n",
        "confusion_mat = confusion_matrix(true_classes, predicted_classes)\n",
        "print(confusion_mat)"
      ],
      "metadata": {
        "colab": {
          "base_uri": "https://localhost:8080/"
        },
        "id": "aTTB1ZE5ESMe",
        "outputId": "a8aadf2d-8510-474b-873d-c3c3b447371a"
      },
      "execution_count": null,
      "outputs": [
        {
          "output_type": "stream",
          "name": "stdout",
          "text": [
            "[[168   0   5   7]\n",
            " [  0  13   0   0]\n",
            " [  0   0 620  20]\n",
            " [  1   0   9 438]]\n"
          ]
        }
      ]
    },
    {
      "cell_type": "markdown",
      "source": [
        "Como podemos observar, las métricas del reporte de clasificación presnetan excelentes resultados. Al revisar las predicciones, podemos observar cómo 20 'Very_Mild_Demnted' los clasificó como 'Non_Demented'. Del modo contrario, 9 'Non_Demented' los clasificó como 'Very_Mild_Demented'. Así mismo 12 imágenes las categoriza como 'Mild Demented' mientras que son incorrectas."
      ],
      "metadata": {
        "id": "H3UnENCjEoaI"
      }
    },
    {
      "cell_type": "markdown",
      "source": [
        "# Ajuste de modelo"
      ],
      "metadata": {
        "id": "1faite_QpNmj"
      }
    },
    {
      "cell_type": "markdown",
      "source": [
        "## Modelo 2 : Batch Normalization"
      ],
      "metadata": {
        "id": "I_COvT8uq9fW"
      }
    },
    {
      "cell_type": "markdown",
      "source": [
        "El primer cambio que se hará, será introducir una capa de Batch Normalization para normalizar la entrada y ayudar a que converja más rápido. También se hizo el cambio de dejar solo una capa de convolución.\n",
        "\n",
        "Todo lo demás permanece igual.\n"
      ],
      "metadata": {
        "id": "LHHfUs9nOumL"
      }
    },
    {
      "cell_type": "code",
      "source": [
        "keras.backend.clear_session()\n",
        "tf.random.set_seed(42)\n",
        "np.random.seed(42)"
      ],
      "metadata": {
        "id": "ycwwSH9ttgJ3"
      },
      "execution_count": null,
      "outputs": []
    },
    {
      "cell_type": "code",
      "source": [
        "callback=tf.keras.callbacks.EarlyStopping(\n",
        "    monitor=\"accuracy\",\n",
        "    min_delta=0.015,\n",
        "    patience=2,\n",
        "    verbose=1,\n",
        "    mode=\"auto\",\n",
        "    baseline=0.8,\n",
        "    restore_best_weights=False)"
      ],
      "metadata": {
        "id": "LhuEYdXDZfTQ"
      },
      "execution_count": null,
      "outputs": []
    },
    {
      "cell_type": "code",
      "source": [
        "num_classes = 4\n",
        "\n",
        "model2 = Sequential([\n",
        "  layers.Rescaling(1./255, input_shape=(128, 128, 3)),\n",
        "  layers.Conv2D(16, 3, padding='same', activation='relu', use_bias = False),\n",
        "  layers.BatchNormalization(),\n",
        "  layers.MaxPooling2D(2),\n",
        "  layers.Flatten(),\n",
        "  layers.Dense(num_classes, activation='softmax')\n",
        "])"
      ],
      "metadata": {
        "id": "bgm3j3cpq_V1"
      },
      "execution_count": null,
      "outputs": []
    },
    {
      "cell_type": "code",
      "source": [
        "opt = tf.keras.optimizers.Adam(learning_rate=.0005)\n",
        "mae = tf.keras.metrics.MeanAbsoluteError()\n",
        "\n",
        "model2.compile(optimizer=opt, loss='categorical_crossentropy', metrics=['accuracy', mae])"
      ],
      "metadata": {
        "id": "0ZlCVI27rFEy"
      },
      "execution_count": null,
      "outputs": []
    },
    {
      "cell_type": "code",
      "source": [
        "history2 = model2.fit(train_ds, validation_data= val_ds, epochs=15,  callbacks=[callback])"
      ],
      "metadata": {
        "colab": {
          "base_uri": "https://localhost:8080/"
        },
        "id": "BhF83G7IGTb0",
        "outputId": "26f13ae1-e11d-4119-9b88-88ab5462522b"
      },
      "execution_count": null,
      "outputs": [
        {
          "output_type": "stream",
          "name": "stdout",
          "text": [
            "Epoch 1/15\n",
            "144/144 [==============================] - 87s 409ms/step - loss: 1.2114 - accuracy: 0.6304 - mean_absolute_error: 0.2230 - val_loss: 1.1364 - val_accuracy: 0.3828 - val_mean_absolute_error: 0.3314\n",
            "Epoch 2/15\n",
            "144/144 [==============================] - 60s 415ms/step - loss: 0.2769 - accuracy: 0.9012 - mean_absolute_error: 0.0933 - val_loss: 0.7321 - val_accuracy: 0.8500 - val_mean_absolute_error: 0.2520\n",
            "Epoch 3/15\n",
            "144/144 [==============================] - 58s 402ms/step - loss: 0.1002 - accuracy: 0.9805 - mean_absolute_error: 0.0392 - val_loss: 0.3477 - val_accuracy: 0.9656 - val_mean_absolute_error: 0.1384\n",
            "Epoch 4/15\n",
            "144/144 [==============================] - 58s 402ms/step - loss: 0.0378 - accuracy: 0.9961 - mean_absolute_error: 0.0167 - val_loss: 0.1308 - val_accuracy: 0.9789 - val_mean_absolute_error: 0.0529\n",
            "Epoch 5/15\n",
            "144/144 [==============================] - 53s 366ms/step - loss: 0.0148 - accuracy: 0.9998 - mean_absolute_error: 0.0071 - val_loss: 0.0556 - val_accuracy: 0.9883 - val_mean_absolute_error: 0.0201\n",
            "Epoch 6/15\n",
            "144/144 [==============================] - 53s 366ms/step - loss: 0.0074 - accuracy: 1.0000 - mean_absolute_error: 0.0036 - val_loss: 0.0388 - val_accuracy: 0.9906 - val_mean_absolute_error: 0.0116\n",
            "Epoch 6: early stopping\n"
          ]
        }
      ]
    },
    {
      "cell_type": "code",
      "source": [
        "df2 = pd.DataFrame(history2.history)\n",
        "df2"
      ],
      "metadata": {
        "id": "XeQMUQQLryVh",
        "colab": {
          "base_uri": "https://localhost:8080/",
          "height": 257
        },
        "outputId": "98b772a0-bfce-4e81-88b0-68bfaf5b0188"
      },
      "execution_count": null,
      "outputs": [
        {
          "output_type": "execute_result",
          "data": {
            "text/plain": [
              "       loss  accuracy  mean_absolute_error  val_loss  val_accuracy  \\\n",
              "0  1.211416  0.630402             0.222998  1.136434      0.382812   \n",
              "1  0.276945  0.901194             0.093335  0.732051      0.850000   \n",
              "2  0.100246  0.980456             0.039249  0.347744      0.965625   \n",
              "3  0.037764  0.996091             0.016723  0.130760      0.978906   \n",
              "4  0.014759  0.999783             0.007084  0.055561      0.988281   \n",
              "5  0.007404  1.000000             0.003634  0.038835      0.990625   \n",
              "\n",
              "   val_mean_absolute_error  \n",
              "0                 0.331401  \n",
              "1                 0.252031  \n",
              "2                 0.138445  \n",
              "3                 0.052886  \n",
              "4                 0.020076  \n",
              "5                 0.011597  "
            ],
            "text/html": [
              "\n",
              "  <div id=\"df-7d907d84-7fc5-4c08-ae3c-e1a31a73e613\" class=\"colab-df-container\">\n",
              "    <div>\n",
              "<style scoped>\n",
              "    .dataframe tbody tr th:only-of-type {\n",
              "        vertical-align: middle;\n",
              "    }\n",
              "\n",
              "    .dataframe tbody tr th {\n",
              "        vertical-align: top;\n",
              "    }\n",
              "\n",
              "    .dataframe thead th {\n",
              "        text-align: right;\n",
              "    }\n",
              "</style>\n",
              "<table border=\"1\" class=\"dataframe\">\n",
              "  <thead>\n",
              "    <tr style=\"text-align: right;\">\n",
              "      <th></th>\n",
              "      <th>loss</th>\n",
              "      <th>accuracy</th>\n",
              "      <th>mean_absolute_error</th>\n",
              "      <th>val_loss</th>\n",
              "      <th>val_accuracy</th>\n",
              "      <th>val_mean_absolute_error</th>\n",
              "    </tr>\n",
              "  </thead>\n",
              "  <tbody>\n",
              "    <tr>\n",
              "      <th>0</th>\n",
              "      <td>1.211416</td>\n",
              "      <td>0.630402</td>\n",
              "      <td>0.222998</td>\n",
              "      <td>1.136434</td>\n",
              "      <td>0.382812</td>\n",
              "      <td>0.331401</td>\n",
              "    </tr>\n",
              "    <tr>\n",
              "      <th>1</th>\n",
              "      <td>0.276945</td>\n",
              "      <td>0.901194</td>\n",
              "      <td>0.093335</td>\n",
              "      <td>0.732051</td>\n",
              "      <td>0.850000</td>\n",
              "      <td>0.252031</td>\n",
              "    </tr>\n",
              "    <tr>\n",
              "      <th>2</th>\n",
              "      <td>0.100246</td>\n",
              "      <td>0.980456</td>\n",
              "      <td>0.039249</td>\n",
              "      <td>0.347744</td>\n",
              "      <td>0.965625</td>\n",
              "      <td>0.138445</td>\n",
              "    </tr>\n",
              "    <tr>\n",
              "      <th>3</th>\n",
              "      <td>0.037764</td>\n",
              "      <td>0.996091</td>\n",
              "      <td>0.016723</td>\n",
              "      <td>0.130760</td>\n",
              "      <td>0.978906</td>\n",
              "      <td>0.052886</td>\n",
              "    </tr>\n",
              "    <tr>\n",
              "      <th>4</th>\n",
              "      <td>0.014759</td>\n",
              "      <td>0.999783</td>\n",
              "      <td>0.007084</td>\n",
              "      <td>0.055561</td>\n",
              "      <td>0.988281</td>\n",
              "      <td>0.020076</td>\n",
              "    </tr>\n",
              "    <tr>\n",
              "      <th>5</th>\n",
              "      <td>0.007404</td>\n",
              "      <td>1.000000</td>\n",
              "      <td>0.003634</td>\n",
              "      <td>0.038835</td>\n",
              "      <td>0.990625</td>\n",
              "      <td>0.011597</td>\n",
              "    </tr>\n",
              "  </tbody>\n",
              "</table>\n",
              "</div>\n",
              "    <div class=\"colab-df-buttons\">\n",
              "\n",
              "  <div class=\"colab-df-container\">\n",
              "    <button class=\"colab-df-convert\" onclick=\"convertToInteractive('df-7d907d84-7fc5-4c08-ae3c-e1a31a73e613')\"\n",
              "            title=\"Convert this dataframe to an interactive table.\"\n",
              "            style=\"display:none;\">\n",
              "\n",
              "  <svg xmlns=\"http://www.w3.org/2000/svg\" height=\"24px\" viewBox=\"0 -960 960 960\">\n",
              "    <path d=\"M120-120v-720h720v720H120Zm60-500h600v-160H180v160Zm220 220h160v-160H400v160Zm0 220h160v-160H400v160ZM180-400h160v-160H180v160Zm440 0h160v-160H620v160ZM180-180h160v-160H180v160Zm440 0h160v-160H620v160Z\"/>\n",
              "  </svg>\n",
              "    </button>\n",
              "\n",
              "  <style>\n",
              "    .colab-df-container {\n",
              "      display:flex;\n",
              "      gap: 12px;\n",
              "    }\n",
              "\n",
              "    .colab-df-convert {\n",
              "      background-color: #E8F0FE;\n",
              "      border: none;\n",
              "      border-radius: 50%;\n",
              "      cursor: pointer;\n",
              "      display: none;\n",
              "      fill: #1967D2;\n",
              "      height: 32px;\n",
              "      padding: 0 0 0 0;\n",
              "      width: 32px;\n",
              "    }\n",
              "\n",
              "    .colab-df-convert:hover {\n",
              "      background-color: #E2EBFA;\n",
              "      box-shadow: 0px 1px 2px rgba(60, 64, 67, 0.3), 0px 1px 3px 1px rgba(60, 64, 67, 0.15);\n",
              "      fill: #174EA6;\n",
              "    }\n",
              "\n",
              "    .colab-df-buttons div {\n",
              "      margin-bottom: 4px;\n",
              "    }\n",
              "\n",
              "    [theme=dark] .colab-df-convert {\n",
              "      background-color: #3B4455;\n",
              "      fill: #D2E3FC;\n",
              "    }\n",
              "\n",
              "    [theme=dark] .colab-df-convert:hover {\n",
              "      background-color: #434B5C;\n",
              "      box-shadow: 0px 1px 3px 1px rgba(0, 0, 0, 0.15);\n",
              "      filter: drop-shadow(0px 1px 2px rgba(0, 0, 0, 0.3));\n",
              "      fill: #FFFFFF;\n",
              "    }\n",
              "  </style>\n",
              "\n",
              "    <script>\n",
              "      const buttonEl =\n",
              "        document.querySelector('#df-7d907d84-7fc5-4c08-ae3c-e1a31a73e613 button.colab-df-convert');\n",
              "      buttonEl.style.display =\n",
              "        google.colab.kernel.accessAllowed ? 'block' : 'none';\n",
              "\n",
              "      async function convertToInteractive(key) {\n",
              "        const element = document.querySelector('#df-7d907d84-7fc5-4c08-ae3c-e1a31a73e613');\n",
              "        const dataTable =\n",
              "          await google.colab.kernel.invokeFunction('convertToInteractive',\n",
              "                                                    [key], {});\n",
              "        if (!dataTable) return;\n",
              "\n",
              "        const docLinkHtml = 'Like what you see? Visit the ' +\n",
              "          '<a target=\"_blank\" href=https://colab.research.google.com/notebooks/data_table.ipynb>data table notebook</a>'\n",
              "          + ' to learn more about interactive tables.';\n",
              "        element.innerHTML = '';\n",
              "        dataTable['output_type'] = 'display_data';\n",
              "        await google.colab.output.renderOutput(dataTable, element);\n",
              "        const docLink = document.createElement('div');\n",
              "        docLink.innerHTML = docLinkHtml;\n",
              "        element.appendChild(docLink);\n",
              "      }\n",
              "    </script>\n",
              "  </div>\n",
              "\n",
              "\n",
              "<div id=\"df-ef3140d3-a2c8-475d-8bcb-9378f1772bee\">\n",
              "  <button class=\"colab-df-quickchart\" onclick=\"quickchart('df-ef3140d3-a2c8-475d-8bcb-9378f1772bee')\"\n",
              "            title=\"Suggest charts\"\n",
              "            style=\"display:none;\">\n",
              "\n",
              "<svg xmlns=\"http://www.w3.org/2000/svg\" height=\"24px\"viewBox=\"0 0 24 24\"\n",
              "     width=\"24px\">\n",
              "    <g>\n",
              "        <path d=\"M19 3H5c-1.1 0-2 .9-2 2v14c0 1.1.9 2 2 2h14c1.1 0 2-.9 2-2V5c0-1.1-.9-2-2-2zM9 17H7v-7h2v7zm4 0h-2V7h2v10zm4 0h-2v-4h2v4z\"/>\n",
              "    </g>\n",
              "</svg>\n",
              "  </button>\n",
              "\n",
              "<style>\n",
              "  .colab-df-quickchart {\n",
              "      --bg-color: #E8F0FE;\n",
              "      --fill-color: #1967D2;\n",
              "      --hover-bg-color: #E2EBFA;\n",
              "      --hover-fill-color: #174EA6;\n",
              "      --disabled-fill-color: #AAA;\n",
              "      --disabled-bg-color: #DDD;\n",
              "  }\n",
              "\n",
              "  [theme=dark] .colab-df-quickchart {\n",
              "      --bg-color: #3B4455;\n",
              "      --fill-color: #D2E3FC;\n",
              "      --hover-bg-color: #434B5C;\n",
              "      --hover-fill-color: #FFFFFF;\n",
              "      --disabled-bg-color: #3B4455;\n",
              "      --disabled-fill-color: #666;\n",
              "  }\n",
              "\n",
              "  .colab-df-quickchart {\n",
              "    background-color: var(--bg-color);\n",
              "    border: none;\n",
              "    border-radius: 50%;\n",
              "    cursor: pointer;\n",
              "    display: none;\n",
              "    fill: var(--fill-color);\n",
              "    height: 32px;\n",
              "    padding: 0;\n",
              "    width: 32px;\n",
              "  }\n",
              "\n",
              "  .colab-df-quickchart:hover {\n",
              "    background-color: var(--hover-bg-color);\n",
              "    box-shadow: 0 1px 2px rgba(60, 64, 67, 0.3), 0 1px 3px 1px rgba(60, 64, 67, 0.15);\n",
              "    fill: var(--button-hover-fill-color);\n",
              "  }\n",
              "\n",
              "  .colab-df-quickchart-complete:disabled,\n",
              "  .colab-df-quickchart-complete:disabled:hover {\n",
              "    background-color: var(--disabled-bg-color);\n",
              "    fill: var(--disabled-fill-color);\n",
              "    box-shadow: none;\n",
              "  }\n",
              "\n",
              "  .colab-df-spinner {\n",
              "    border: 2px solid var(--fill-color);\n",
              "    border-color: transparent;\n",
              "    border-bottom-color: var(--fill-color);\n",
              "    animation:\n",
              "      spin 1s steps(1) infinite;\n",
              "  }\n",
              "\n",
              "  @keyframes spin {\n",
              "    0% {\n",
              "      border-color: transparent;\n",
              "      border-bottom-color: var(--fill-color);\n",
              "      border-left-color: var(--fill-color);\n",
              "    }\n",
              "    20% {\n",
              "      border-color: transparent;\n",
              "      border-left-color: var(--fill-color);\n",
              "      border-top-color: var(--fill-color);\n",
              "    }\n",
              "    30% {\n",
              "      border-color: transparent;\n",
              "      border-left-color: var(--fill-color);\n",
              "      border-top-color: var(--fill-color);\n",
              "      border-right-color: var(--fill-color);\n",
              "    }\n",
              "    40% {\n",
              "      border-color: transparent;\n",
              "      border-right-color: var(--fill-color);\n",
              "      border-top-color: var(--fill-color);\n",
              "    }\n",
              "    60% {\n",
              "      border-color: transparent;\n",
              "      border-right-color: var(--fill-color);\n",
              "    }\n",
              "    80% {\n",
              "      border-color: transparent;\n",
              "      border-right-color: var(--fill-color);\n",
              "      border-bottom-color: var(--fill-color);\n",
              "    }\n",
              "    90% {\n",
              "      border-color: transparent;\n",
              "      border-bottom-color: var(--fill-color);\n",
              "    }\n",
              "  }\n",
              "</style>\n",
              "\n",
              "  <script>\n",
              "    async function quickchart(key) {\n",
              "      const quickchartButtonEl =\n",
              "        document.querySelector('#' + key + ' button');\n",
              "      quickchartButtonEl.disabled = true;  // To prevent multiple clicks.\n",
              "      quickchartButtonEl.classList.add('colab-df-spinner');\n",
              "      try {\n",
              "        const charts = await google.colab.kernel.invokeFunction(\n",
              "            'suggestCharts', [key], {});\n",
              "      } catch (error) {\n",
              "        console.error('Error during call to suggestCharts:', error);\n",
              "      }\n",
              "      quickchartButtonEl.classList.remove('colab-df-spinner');\n",
              "      quickchartButtonEl.classList.add('colab-df-quickchart-complete');\n",
              "    }\n",
              "    (() => {\n",
              "      let quickchartButtonEl =\n",
              "        document.querySelector('#df-ef3140d3-a2c8-475d-8bcb-9378f1772bee button');\n",
              "      quickchartButtonEl.style.display =\n",
              "        google.colab.kernel.accessAllowed ? 'block' : 'none';\n",
              "    })();\n",
              "  </script>\n",
              "</div>\n",
              "    </div>\n",
              "  </div>\n"
            ]
          },
          "metadata": {},
          "execution_count": 68
        }
      ]
    },
    {
      "cell_type": "markdown",
      "source": [
        "Comparando la gráfica de accuracy con el modelo 1, este modelo presenta resultados de accuracy más estables en las últimas épocas llegando a casi un plateau. Si el accuracy aumenta, también el validation accuracy, por lo que probablemnte no haya overfitting."
      ],
      "metadata": {
        "id": "YHePzgu0P55j"
      }
    },
    {
      "cell_type": "code",
      "source": [
        "\n",
        "df2.plot(y=[\"accuracy\", \"val_accuracy\"], title=\"categorical_accuracy vs Epoch\")"
      ],
      "metadata": {
        "id": "TzLHzslCr125",
        "colab": {
          "base_uri": "https://localhost:8080/",
          "height": 470
        },
        "outputId": "41888f49-16de-4d9b-dd13-08f7a07c0c36"
      },
      "execution_count": null,
      "outputs": [
        {
          "output_type": "execute_result",
          "data": {
            "text/plain": [
              "<Axes: title={'center': 'categorical_accuracy vs Epoch'}>"
            ]
          },
          "metadata": {},
          "execution_count": 69
        },
        {
          "output_type": "display_data",
          "data": {
            "text/plain": [
              "<Figure size 640x480 with 1 Axes>"
            ],
            "image/png": "[encoded data removed]"
          },
          "metadata": {}
        }
      ]
    },
    {
      "cell_type": "code",
      "source": [
        "# Make a plot for the loss\n",
        "df2.plot(y=[\"loss\", \"val_loss\"], title=\"Loss vs Epoch\")"
      ],
      "metadata": {
        "colab": {
          "base_uri": "https://localhost:8080/",
          "height": 470
        },
        "id": "NlpFyvIWLzC5",
        "outputId": "5d314980-ad2b-4098-b143-6720c69b7df0"
      },
      "execution_count": null,
      "outputs": [
        {
          "output_type": "execute_result",
          "data": {
            "text/plain": [
              "<Axes: title={'center': 'Loss vs Epoch'}>"
            ]
          },
          "metadata": {},
          "execution_count": 70
        },
        {
          "output_type": "display_data",
          "data": {
            "text/plain": [
              "<Figure size 640x480 with 1 Axes>"
            ],
            "image/png": "[encoded data removed]"
          },
          "metadata": {}
        }
      ]
    },
    {
      "cell_type": "markdown",
      "source": [
        "### Predicciones\n"
      ],
      "metadata": {
        "id": "R0yEeTaptAZa"
      }
    },
    {
      "cell_type": "code",
      "source": [
        "predictions = []\n",
        "true_labels = []\n",
        "\n",
        "for images, labels in test_ds:\n",
        "    predictions_batch = model2.predict(images)\n",
        "    predictions.extend(predictions_batch)\n",
        "    true_labels.extend(labels)\n",
        "\n",
        "\n",
        "predicted_classes = np.argmax(predictions, axis=1)\n",
        "true_classes = np.argmax(true_labels, axis=1)\n",
        "\n",
        "# Classification report\n",
        "confusion_mat = classification_report(true_classes, predicted_classes)\n",
        "print(confusion_mat)"
      ],
      "metadata": {
        "colab": {
          "base_uri": "https://localhost:8080/"
        },
        "id": "4kgYGWp8GniB",
        "outputId": "4aa4ea0f-d51c-44c4-a73e-d47919fb09c7"
      },
      "execution_count": null,
      "outputs": [
        {
          "output_type": "stream",
          "name": "stdout",
          "text": [
            "1/1 [==============================] - 0s 184ms/step\n",
            "1/1 [==============================] - 0s 124ms/step\n",
            "1/1 [==============================] - 0s 122ms/step\n",
            "1/1 [==============================] - 0s 120ms/step\n",
            "1/1 [==============================] - 0s 126ms/step\n",
            "1/1 [==============================] - 0s 130ms/step\n",
            "1/1 [==============================] - 0s 118ms/step\n",
            "1/1 [==============================] - 0s 113ms/step\n",
            "1/1 [==============================] - 0s 120ms/step\n",
            "1/1 [==============================] - 0s 117ms/step\n",
            "1/1 [==============================] - 0s 118ms/step\n",
            "1/1 [==============================] - 0s 145ms/step\n",
            "1/1 [==============================] - 0s 193ms/step\n",
            "1/1 [==============================] - 0s 197ms/step\n",
            "1/1 [==============================] - 0s 202ms/step\n",
            "1/1 [==============================] - 0s 204ms/step\n",
            "1/1 [==============================] - 0s 221ms/step\n",
            "1/1 [==============================] - 0s 204ms/step\n",
            "1/1 [==============================] - 0s 195ms/step\n",
            "1/1 [==============================] - 0s 216ms/step\n",
            "1/1 [==============================] - 0s 216ms/step\n",
            "1/1 [==============================] - 0s 236ms/step\n",
            "1/1 [==============================] - 0s 199ms/step\n",
            "1/1 [==============================] - 0s 187ms/step\n",
            "1/1 [==============================] - 0s 189ms/step\n",
            "1/1 [==============================] - 0s 175ms/step\n",
            "1/1 [==============================] - 0s 118ms/step\n",
            "1/1 [==============================] - 0s 117ms/step\n",
            "1/1 [==============================] - 0s 121ms/step\n",
            "1/1 [==============================] - 0s 118ms/step\n",
            "1/1 [==============================] - 0s 127ms/step\n",
            "1/1 [==============================] - 0s 121ms/step\n",
            "1/1 [==============================] - 0s 116ms/step\n",
            "1/1 [==============================] - 0s 117ms/step\n",
            "1/1 [==============================] - 0s 117ms/step\n",
            "1/1 [==============================] - 0s 114ms/step\n",
            "1/1 [==============================] - 0s 116ms/step\n",
            "1/1 [==============================] - 0s 116ms/step\n",
            "1/1 [==============================] - 0s 116ms/step\n",
            "1/1 [==============================] - 0s 115ms/step\n",
            "1/1 [==============================] - 0s 73ms/step\n",
            "              precision    recall  f1-score   support\n",
            "\n",
            "           0       0.99      0.97      0.98       180\n",
            "           1       1.00      0.92      0.96        13\n",
            "           2       0.98      0.99      0.98       640\n",
            "           3       0.97      0.98      0.97       448\n",
            "\n",
            "    accuracy                           0.98      1281\n",
            "   macro avg       0.99      0.96      0.97      1281\n",
            "weighted avg       0.98      0.98      0.98      1281\n",
            "\n"
          ]
        }
      ]
    },
    {
      "cell_type": "markdown",
      "source": [
        "Como podemos observar, las métricas del reporte de clasificación presentan excelentes resultados, incluso mejores que el modelo anterior. La única métrica que permanece un poco por debajo es recall.\n",
        "\n"
      ],
      "metadata": {
        "id": "BzJhAz18RVU0"
      }
    },
    {
      "cell_type": "code",
      "source": [
        "confusion_mat = confusion_matrix(true_classes, predicted_classes)\n",
        "print(confusion_mat)"
      ],
      "metadata": {
        "colab": {
          "base_uri": "https://localhost:8080/"
        },
        "id": "ii0JejiEKLnW",
        "outputId": "99921f65-6b20-4c8b-f39e-bdf097dc20bc"
      },
      "execution_count": null,
      "outputs": [
        {
          "output_type": "stream",
          "name": "stdout",
          "text": [
            "[[174   0   1   5]\n",
            " [  0  12   0   1]\n",
            " [  1   0 631   8]\n",
            " [  0   0  10 438]]\n"
          ]
        }
      ]
    },
    {
      "cell_type": "markdown",
      "source": [
        " Al revisar las predicciones, podemos observar cómo 8 'Very_Mild_Demnted' los clasificó como 'Non_Demented'. Del modo contrario, 10 'Non_Demented' los clasificó como 'Very_Mild_Demented'. Así mismo 6 imágenes las categoriza como 'Mild Demented' mientras que son incorrectas.\n",
        "\n",
        " A partir de esto, podemos apreciar cómo mejora este modelo. No solo presenta accuracy y loss mucho mejor. Las predicciones también son muy buenas, se reducen la cantidad total de predicciones incorrectas. Así mismo, el caso que consideraría más grave, de diagnosticar a alguien con Alzheimer como 'Non_Demented' reduce considerablemente de 20 casos a 8 casos."
      ],
      "metadata": {
        "id": "cS4wBrhERgZ4"
      }
    },
    {
      "cell_type": "markdown",
      "source": [
        "## Modelo 3: Linear regularization and early stopping\n",
        "\n",
        "Para esta corrida introduciremos la regularización lineal L1L2 para, a pesar de no presentar indicios considerables de overfitting, se ayudaría a evitarlo.\n",
        "\n",
        "Así mismo, continuaré con el modelo previamente utilizado el cual posee batch normalization. El único cambio será agregar regularización lineal en la capa de convolución.\n"
      ],
      "metadata": {
        "id": "OuDbwa3UGbZv"
      }
    },
    {
      "cell_type": "code",
      "source": [
        "from tensorflow.keras import regularizers"
      ],
      "metadata": {
        "id": "NC1gkwRZH4oD"
      },
      "execution_count": null,
      "outputs": []
    },
    {
      "cell_type": "code",
      "source": [
        "keras.backend.clear_session()\n",
        "tf.random.set_seed(42)\n",
        "np.random.seed(42)"
      ],
      "metadata": {
        "id": "0FssivU_SRJh"
      },
      "execution_count": null,
      "outputs": []
    },
    {
      "cell_type": "code",
      "source": [
        "callback=tf.keras.callbacks.EarlyStopping(\n",
        "    monitor=\"accuracy\",\n",
        "    min_delta=0.015,\n",
        "    patience=2,\n",
        "    verbose=1,\n",
        "    mode=\"auto\",\n",
        "    baseline=0.8,\n",
        "    restore_best_weights=False)"
      ],
      "metadata": {
        "id": "FxwICeOzH837"
      },
      "execution_count": null,
      "outputs": []
    },
    {
      "cell_type": "code",
      "source": [
        "model3 = Sequential([\n",
        "  layers.Rescaling(1./255, input_shape=(128, 128, 3)),\n",
        "  layers.Conv2D(16, 3, padding='same', activation='relu', kernel_regularizer=regularizers.L1L2(l1=0.01, l2=0.03)),\n",
        "  layers.BatchNormalization(),\n",
        "  layers.MaxPooling2D(2),\n",
        "  layers.Flatten(),\n",
        "  layers.Dense(num_classes, activation='softmax')\n",
        "])"
      ],
      "metadata": {
        "id": "EWTKrsVIIDFc"
      },
      "execution_count": null,
      "outputs": []
    },
    {
      "cell_type": "code",
      "source": [
        "opt = tf.keras.optimizers.Adam(learning_rate=.0005)\n",
        "mae = tf.keras.metrics.MeanAbsoluteError()\n",
        "model3.compile(optimizer=opt, loss='categorical_crossentropy', metrics=['accuracy', mae])\n",
        "history = model3.fit(train_ds, validation_data= val_ds, epochs=15, callbacks=[callback])"
      ],
      "metadata": {
        "colab": {
          "base_uri": "https://localhost:8080/"
        },
        "id": "MOUtC5DwIZNS",
        "outputId": "5500c6ae-5c18-4592-eac5-6be6c414ac5f"
      },
      "execution_count": null,
      "outputs": [
        {
          "output_type": "stream",
          "name": "stdout",
          "text": [
            "Epoch 1/15\n",
            "144/144 [==============================] - 53s 365ms/step - loss: 2.4368 - accuracy: 0.5681 - mean_absolute_error: 0.2379 - val_loss: 1.4325 - val_accuracy: 0.5680 - val_mean_absolute_error: 0.3214\n",
            "Epoch 2/15\n",
            "144/144 [==============================] - 52s 363ms/step - loss: 0.7248 - accuracy: 0.8447 - mean_absolute_error: 0.1238 - val_loss: 1.0176 - val_accuracy: 0.8453 - val_mean_absolute_error: 0.2509\n",
            "Epoch 3/15\n",
            "144/144 [==============================] - 54s 376ms/step - loss: 0.4496 - accuracy: 0.9505 - mean_absolute_error: 0.0628 - val_loss: 0.9362 - val_accuracy: 0.6820 - val_mean_absolute_error: 0.2204\n",
            "Epoch 4/15\n",
            "144/144 [==============================] - 54s 371ms/step - loss: 0.3405 - accuracy: 0.9870 - mean_absolute_error: 0.0339 - val_loss: 0.4583 - val_accuracy: 0.9781 - val_mean_absolute_error: 0.0859\n",
            "Epoch 5/15\n",
            "144/144 [==============================] - 58s 402ms/step - loss: 0.2820 - accuracy: 0.9985 - mean_absolute_error: 0.0184 - val_loss: 0.3096 - val_accuracy: 0.9875 - val_mean_absolute_error: 0.0318\n",
            "Epoch 6/15\n",
            "144/144 [==============================] - 58s 402ms/step - loss: 0.2497 - accuracy: 1.0000 - mean_absolute_error: 0.0116 - val_loss: 0.2822 - val_accuracy: 0.9836 - val_mean_absolute_error: 0.0235\n",
            "Epoch 6: early stopping\n"
          ]
        }
      ]
    },
    {
      "cell_type": "code",
      "source": [
        "df3 = pd.DataFrame(history.history)\n",
        "df3"
      ],
      "metadata": {
        "colab": {
          "base_uri": "https://localhost:8080/",
          "height": 257
        },
        "id": "bUkGl75OXcFn",
        "outputId": "7d820395-f3e6-4bab-a38b-6299ed29aede"
      },
      "execution_count": null,
      "outputs": [
        {
          "output_type": "execute_result",
          "data": {
            "text/plain": [
              "       loss  accuracy  mean_absolute_error  val_loss  val_accuracy  \\\n",
              "0  2.436806  0.568078             0.237912  1.432494      0.567969   \n",
              "1  0.724781  0.844734             0.123811  1.017560      0.845312   \n",
              "2  0.449604  0.950489             0.062802  0.936152      0.682031   \n",
              "3  0.340511  0.986971             0.033898  0.458336      0.978125   \n",
              "4  0.281993  0.998480             0.018396  0.309569      0.987500   \n",
              "5  0.249666  1.000000             0.011572  0.282163      0.983594   \n",
              "\n",
              "   val_mean_absolute_error  \n",
              "0                 0.321356  \n",
              "1                 0.250932  \n",
              "2                 0.220373  \n",
              "3                 0.085930  \n",
              "4                 0.031761  \n",
              "5                 0.023538  "
            ],
            "text/html": [
              "\n",
              "  <div id=\"df-28493a52-007a-40b7-8f65-9ffbc0f05a46\" class=\"colab-df-container\">\n",
              "    <div>\n",
              "<style scoped>\n",
              "    .dataframe tbody tr th:only-of-type {\n",
              "        vertical-align: middle;\n",
              "    }\n",
              "\n",
              "    .dataframe tbody tr th {\n",
              "        vertical-align: top;\n",
              "    }\n",
              "\n",
              "    .dataframe thead th {\n",
              "        text-align: right;\n",
              "    }\n",
              "</style>\n",
              "<table border=\"1\" class=\"dataframe\">\n",
              "  <thead>\n",
              "    <tr style=\"text-align: right;\">\n",
              "      <th></th>\n",
              "      <th>loss</th>\n",
              "      <th>accuracy</th>\n",
              "      <th>mean_absolute_error</th>\n",
              "      <th>val_loss</th>\n",
              "      <th>val_accuracy</th>\n",
              "      <th>val_mean_absolute_error</th>\n",
              "    </tr>\n",
              "  </thead>\n",
              "  <tbody>\n",
              "    <tr>\n",
              "      <th>0</th>\n",
              "      <td>2.436806</td>\n",
              "      <td>0.568078</td>\n",
              "      <td>0.237912</td>\n",
              "      <td>1.432494</td>\n",
              "      <td>0.567969</td>\n",
              "      <td>0.321356</td>\n",
              "    </tr>\n",
              "    <tr>\n",
              "      <th>1</th>\n",
              "      <td>0.724781</td>\n",
              "      <td>0.844734</td>\n",
              "      <td>0.123811</td>\n",
              "      <td>1.017560</td>\n",
              "      <td>0.845312</td>\n",
              "      <td>0.250932</td>\n",
              "    </tr>\n",
              "    <tr>\n",
              "      <th>2</th>\n",
              "      <td>0.449604</td>\n",
              "      <td>0.950489</td>\n",
              "      <td>0.062802</td>\n",
              "      <td>0.936152</td>\n",
              "      <td>0.682031</td>\n",
              "      <td>0.220373</td>\n",
              "    </tr>\n",
              "    <tr>\n",
              "      <th>3</th>\n",
              "      <td>0.340511</td>\n",
              "      <td>0.986971</td>\n",
              "      <td>0.033898</td>\n",
              "      <td>0.458336</td>\n",
              "      <td>0.978125</td>\n",
              "      <td>0.085930</td>\n",
              "    </tr>\n",
              "    <tr>\n",
              "      <th>4</th>\n",
              "      <td>0.281993</td>\n",
              "      <td>0.998480</td>\n",
              "      <td>0.018396</td>\n",
              "      <td>0.309569</td>\n",
              "      <td>0.987500</td>\n",
              "      <td>0.031761</td>\n",
              "    </tr>\n",
              "    <tr>\n",
              "      <th>5</th>\n",
              "      <td>0.249666</td>\n",
              "      <td>1.000000</td>\n",
              "      <td>0.011572</td>\n",
              "      <td>0.282163</td>\n",
              "      <td>0.983594</td>\n",
              "      <td>0.023538</td>\n",
              "    </tr>\n",
              "  </tbody>\n",
              "</table>\n",
              "</div>\n",
              "    <div class=\"colab-df-buttons\">\n",
              "\n",
              "  <div class=\"colab-df-container\">\n",
              "    <button class=\"colab-df-convert\" onclick=\"convertToInteractive('df-28493a52-007a-40b7-8f65-9ffbc0f05a46')\"\n",
              "            title=\"Convert this dataframe to an interactive table.\"\n",
              "            style=\"display:none;\">\n",
              "\n",
              "  <svg xmlns=\"http://www.w3.org/2000/svg\" height=\"24px\" viewBox=\"0 -960 960 960\">\n",
              "    <path d=\"M120-120v-720h720v720H120Zm60-500h600v-160H180v160Zm220 220h160v-160H400v160Zm0 220h160v-160H400v160ZM180-400h160v-160H180v160Zm440 0h160v-160H620v160ZM180-180h160v-160H180v160Zm440 0h160v-160H620v160Z\"/>\n",
              "  </svg>\n",
              "    </button>\n",
              "\n",
              "  <style>\n",
              "    .colab-df-container {\n",
              "      display:flex;\n",
              "      gap: 12px;\n",
              "    }\n",
              "\n",
              "    .colab-df-convert {\n",
              "      background-color: #E8F0FE;\n",
              "      border: none;\n",
              "      border-radius: 50%;\n",
              "      cursor: pointer;\n",
              "      display: none;\n",
              "      fill: #1967D2;\n",
              "      height: 32px;\n",
              "      padding: 0 0 0 0;\n",
              "      width: 32px;\n",
              "    }\n",
              "\n",
              "    .colab-df-convert:hover {\n",
              "      background-color: #E2EBFA;\n",
              "      box-shadow: 0px 1px 2px rgba(60, 64, 67, 0.3), 0px 1px 3px 1px rgba(60, 64, 67, 0.15);\n",
              "      fill: #174EA6;\n",
              "    }\n",
              "\n",
              "    .colab-df-buttons div {\n",
              "      margin-bottom: 4px;\n",
              "    }\n",
              "\n",
              "    [theme=dark] .colab-df-convert {\n",
              "      background-color: #3B4455;\n",
              "      fill: #D2E3FC;\n",
              "    }\n",
              "\n",
              "    [theme=dark] .colab-df-convert:hover {\n",
              "      background-color: #434B5C;\n",
              "      box-shadow: 0px 1px 3px 1px rgba(0, 0, 0, 0.15);\n",
              "      filter: drop-shadow(0px 1px 2px rgba(0, 0, 0, 0.3));\n",
              "      fill: #FFFFFF;\n",
              "    }\n",
              "  </style>\n",
              "\n",
              "    <script>\n",
              "      const buttonEl =\n",
              "        document.querySelector('#df-28493a52-007a-40b7-8f65-9ffbc0f05a46 button.colab-df-convert');\n",
              "      buttonEl.style.display =\n",
              "        google.colab.kernel.accessAllowed ? 'block' : 'none';\n",
              "\n",
              "      async function convertToInteractive(key) {\n",
              "        const element = document.querySelector('#df-28493a52-007a-40b7-8f65-9ffbc0f05a46');\n",
              "        const dataTable =\n",
              "          await google.colab.kernel.invokeFunction('convertToInteractive',\n",
              "                                                    [key], {});\n",
              "        if (!dataTable) return;\n",
              "\n",
              "        const docLinkHtml = 'Like what you see? Visit the ' +\n",
              "          '<a target=\"_blank\" href=https://colab.research.google.com/notebooks/data_table.ipynb>data table notebook</a>'\n",
              "          + ' to learn more about interactive tables.';\n",
              "        element.innerHTML = '';\n",
              "        dataTable['output_type'] = 'display_data';\n",
              "        await google.colab.output.renderOutput(dataTable, element);\n",
              "        const docLink = document.createElement('div');\n",
              "        docLink.innerHTML = docLinkHtml;\n",
              "        element.appendChild(docLink);\n",
              "      }\n",
              "    </script>\n",
              "  </div>\n",
              "\n",
              "\n",
              "<div id=\"df-4744c46a-67c8-4000-99d6-f6b3a1f5b1fe\">\n",
              "  <button class=\"colab-df-quickchart\" onclick=\"quickchart('df-4744c46a-67c8-4000-99d6-f6b3a1f5b1fe')\"\n",
              "            title=\"Suggest charts\"\n",
              "            style=\"display:none;\">\n",
              "\n",
              "<svg xmlns=\"http://www.w3.org/2000/svg\" height=\"24px\"viewBox=\"0 0 24 24\"\n",
              "     width=\"24px\">\n",
              "    <g>\n",
              "        <path d=\"M19 3H5c-1.1 0-2 .9-2 2v14c0 1.1.9 2 2 2h14c1.1 0 2-.9 2-2V5c0-1.1-.9-2-2-2zM9 17H7v-7h2v7zm4 0h-2V7h2v10zm4 0h-2v-4h2v4z\"/>\n",
              "    </g>\n",
              "</svg>\n",
              "  </button>\n",
              "\n",
              "<style>\n",
              "  .colab-df-quickchart {\n",
              "      --bg-color: #E8F0FE;\n",
              "      --fill-color: #1967D2;\n",
              "      --hover-bg-color: #E2EBFA;\n",
              "      --hover-fill-color: #174EA6;\n",
              "      --disabled-fill-color: #AAA;\n",
              "      --disabled-bg-color: #DDD;\n",
              "  }\n",
              "\n",
              "  [theme=dark] .colab-df-quickchart {\n",
              "      --bg-color: #3B4455;\n",
              "      --fill-color: #D2E3FC;\n",
              "      --hover-bg-color: #434B5C;\n",
              "      --hover-fill-color: #FFFFFF;\n",
              "      --disabled-bg-color: #3B4455;\n",
              "      --disabled-fill-color: #666;\n",
              "  }\n",
              "\n",
              "  .colab-df-quickchart {\n",
              "    background-color: var(--bg-color);\n",
              "    border: none;\n",
              "    border-radius: 50%;\n",
              "    cursor: pointer;\n",
              "    display: none;\n",
              "    fill: var(--fill-color);\n",
              "    height: 32px;\n",
              "    padding: 0;\n",
              "    width: 32px;\n",
              "  }\n",
              "\n",
              "  .colab-df-quickchart:hover {\n",
              "    background-color: var(--hover-bg-color);\n",
              "    box-shadow: 0 1px 2px rgba(60, 64, 67, 0.3), 0 1px 3px 1px rgba(60, 64, 67, 0.15);\n",
              "    fill: var(--button-hover-fill-color);\n",
              "  }\n",
              "\n",
              "  .colab-df-quickchart-complete:disabled,\n",
              "  .colab-df-quickchart-complete:disabled:hover {\n",
              "    background-color: var(--disabled-bg-color);\n",
              "    fill: var(--disabled-fill-color);\n",
              "    box-shadow: none;\n",
              "  }\n",
              "\n",
              "  .colab-df-spinner {\n",
              "    border: 2px solid var(--fill-color);\n",
              "    border-color: transparent;\n",
              "    border-bottom-color: var(--fill-color);\n",
              "    animation:\n",
              "      spin 1s steps(1) infinite;\n",
              "  }\n",
              "\n",
              "  @keyframes spin {\n",
              "    0% {\n",
              "      border-color: transparent;\n",
              "      border-bottom-color: var(--fill-color);\n",
              "      border-left-color: var(--fill-color);\n",
              "    }\n",
              "    20% {\n",
              "      border-color: transparent;\n",
              "      border-left-color: var(--fill-color);\n",
              "      border-top-color: var(--fill-color);\n",
              "    }\n",
              "    30% {\n",
              "      border-color: transparent;\n",
              "      border-left-color: var(--fill-color);\n",
              "      border-top-color: var(--fill-color);\n",
              "      border-right-color: var(--fill-color);\n",
              "    }\n",
              "    40% {\n",
              "      border-color: transparent;\n",
              "      border-right-color: var(--fill-color);\n",
              "      border-top-color: var(--fill-color);\n",
              "    }\n",
              "    60% {\n",
              "      border-color: transparent;\n",
              "      border-right-color: var(--fill-color);\n",
              "    }\n",
              "    80% {\n",
              "      border-color: transparent;\n",
              "      border-right-color: var(--fill-color);\n",
              "      border-bottom-color: var(--fill-color);\n",
              "    }\n",
              "    90% {\n",
              "      border-color: transparent;\n",
              "      border-bottom-color: var(--fill-color);\n",
              "    }\n",
              "  }\n",
              "</style>\n",
              "\n",
              "  <script>\n",
              "    async function quickchart(key) {\n",
              "      const quickchartButtonEl =\n",
              "        document.querySelector('#' + key + ' button');\n",
              "      quickchartButtonEl.disabled = true;  // To prevent multiple clicks.\n",
              "      quickchartButtonEl.classList.add('colab-df-spinner');\n",
              "      try {\n",
              "        const charts = await google.colab.kernel.invokeFunction(\n",
              "            'suggestCharts', [key], {});\n",
              "      } catch (error) {\n",
              "        console.error('Error during call to suggestCharts:', error);\n",
              "      }\n",
              "      quickchartButtonEl.classList.remove('colab-df-spinner');\n",
              "      quickchartButtonEl.classList.add('colab-df-quickchart-complete');\n",
              "    }\n",
              "    (() => {\n",
              "      let quickchartButtonEl =\n",
              "        document.querySelector('#df-4744c46a-67c8-4000-99d6-f6b3a1f5b1fe button');\n",
              "      quickchartButtonEl.style.display =\n",
              "        google.colab.kernel.accessAllowed ? 'block' : 'none';\n",
              "    })();\n",
              "  </script>\n",
              "</div>\n",
              "    </div>\n",
              "  </div>\n"
            ]
          },
          "metadata": {},
          "execution_count": 84
        }
      ]
    },
    {
      "cell_type": "code",
      "source": [
        "df3.plot(y=[\"accuracy\", \"val_accuracy\"], title=\"categorical_accuracy vs Epoch\")"
      ],
      "metadata": {
        "colab": {
          "base_uri": "https://localhost:8080/",
          "height": 470
        },
        "id": "EecllRj3orSC",
        "outputId": "b10ff2cc-0c34-4d2a-f574-b6086345370d"
      },
      "execution_count": null,
      "outputs": [
        {
          "output_type": "execute_result",
          "data": {
            "text/plain": [
              "<Axes: title={'center': 'categorical_accuracy vs Epoch'}>"
            ]
          },
          "metadata": {},
          "execution_count": 85
        },
        {
          "output_type": "display_data",
          "data": {
            "text/plain": [
              "<Figure size 640x480 with 1 Axes>"
            ],
            "image/png": "[encoded data removed]"
          },
          "metadata": {}
        }
      ]
    },
    {
      "cell_type": "code",
      "source": [
        "df3.plot(y=[\"loss\", \"val_loss\"], title=\"Loss vs Epoch\")"
      ],
      "metadata": {
        "colab": {
          "base_uri": "https://localhost:8080/",
          "height": 470
        },
        "id": "7oFXSYQbo0f5",
        "outputId": "cbfad487-412a-4ea0-c3ac-3c195dfbd92f"
      },
      "execution_count": null,
      "outputs": [
        {
          "output_type": "execute_result",
          "data": {
            "text/plain": [
              "<Axes: title={'center': 'Loss vs Epoch'}>"
            ]
          },
          "metadata": {},
          "execution_count": 86
        },
        {
          "output_type": "display_data",
          "data": {
            "text/plain": [
              "<Figure size 640x480 with 1 Axes>"
            ],
            "image/png": "[encoded data removed]"
          },
          "metadata": {}
        }
      ]
    },
    {
      "cell_type": "markdown",
      "source": [
        "A pesar de implementar regularización, se puede observar que el modelo 2 presenta mejores resultados. No solo muestra menores variaciones en las gráficas y comportamientos más similares entre trainning accuracy y validation accuracy, también posee menores pérdidas y mayores accuracy el modelo 2 vs modelo 3."
      ],
      "metadata": {
        "id": "lcruCMgNlRuK"
      }
    },
    {
      "cell_type": "markdown",
      "source": [
        "### Predicciones"
      ],
      "metadata": {
        "id": "a298al1NpZFz"
      }
    },
    {
      "cell_type": "code",
      "source": [
        "predictions = []\n",
        "true_labels = []\n",
        "\n",
        "for images, labels in test_ds:\n",
        "    predictions_batch = model3.predict(images)\n",
        "    predictions.extend(predictions_batch)\n",
        "    true_labels.extend(labels)\n",
        "\n",
        "\n",
        "predicted_classes = np.argmax(predictions, axis=1)\n",
        "true_classes = np.argmax(true_labels, axis=1)\n",
        "\n",
        "# Classification report\n",
        "confusion_mat = classification_report(true_classes, predicted_classes)\n",
        "print(confusion_mat)"
      ],
      "metadata": {
        "colab": {
          "base_uri": "https://localhost:8080/"
        },
        "id": "EU8qZ2zMo_Ro",
        "outputId": "3d2933d7-3866-4da9-fdcf-146d6d022b27"
      },
      "execution_count": null,
      "outputs": [
        {
          "output_type": "stream",
          "name": "stdout",
          "text": [
            "1/1 [==============================] - 0s 352ms/step\n",
            "1/1 [==============================] - 0s 237ms/step\n",
            "1/1 [==============================] - 0s 288ms/step\n",
            "1/1 [==============================] - 0s 235ms/step\n",
            "1/1 [==============================] - 0s 217ms/step\n",
            "1/1 [==============================] - 0s 200ms/step\n",
            "1/1 [==============================] - 0s 222ms/step\n",
            "1/1 [==============================] - 0s 184ms/step\n",
            "1/1 [==============================] - 0s 116ms/step\n",
            "1/1 [==============================] - 0s 119ms/step\n",
            "1/1 [==============================] - 0s 120ms/step\n",
            "1/1 [==============================] - 0s 115ms/step\n",
            "1/1 [==============================] - 0s 112ms/step\n",
            "1/1 [==============================] - 0s 123ms/step\n",
            "1/1 [==============================] - 0s 111ms/step\n",
            "1/1 [==============================] - 0s 114ms/step\n",
            "1/1 [==============================] - 0s 119ms/step\n",
            "1/1 [==============================] - 0s 115ms/step\n",
            "1/1 [==============================] - 0s 117ms/step\n",
            "1/1 [==============================] - 0s 125ms/step\n",
            "1/1 [==============================] - 0s 117ms/step\n",
            "1/1 [==============================] - 0s 118ms/step\n",
            "1/1 [==============================] - 0s 118ms/step\n",
            "1/1 [==============================] - 0s 113ms/step\n",
            "1/1 [==============================] - 0s 115ms/step\n",
            "1/1 [==============================] - 0s 129ms/step\n",
            "1/1 [==============================] - 0s 114ms/step\n",
            "1/1 [==============================] - 0s 123ms/step\n",
            "1/1 [==============================] - 0s 127ms/step\n",
            "1/1 [==============================] - 0s 122ms/step\n",
            "1/1 [==============================] - 0s 119ms/step\n",
            "1/1 [==============================] - 0s 124ms/step\n",
            "1/1 [==============================] - 0s 115ms/step\n",
            "1/1 [==============================] - 0s 121ms/step\n",
            "1/1 [==============================] - 0s 119ms/step\n",
            "1/1 [==============================] - 0s 117ms/step\n",
            "1/1 [==============================] - 0s 117ms/step\n",
            "1/1 [==============================] - 0s 122ms/step\n",
            "1/1 [==============================] - 0s 114ms/step\n",
            "1/1 [==============================] - 0s 119ms/step\n",
            "1/1 [==============================] - 0s 83ms/step\n",
            "              precision    recall  f1-score   support\n",
            "\n",
            "           0       0.98      0.94      0.96       180\n",
            "           1       1.00      1.00      1.00        13\n",
            "           2       0.95      1.00      0.97       640\n",
            "           3       0.99      0.93      0.96       448\n",
            "\n",
            "    accuracy                           0.96      1281\n",
            "   macro avg       0.98      0.97      0.97      1281\n",
            "weighted avg       0.97      0.96      0.96      1281\n",
            "\n"
          ]
        }
      ]
    },
    {
      "cell_type": "markdown",
      "source": [
        "Como podemos observar, las métricas del reporte de clasificación presentan buenos resultados, pero no mejores que el modelo anterior."
      ],
      "metadata": {
        "id": "ixaED5WVmCq6"
      }
    },
    {
      "cell_type": "code",
      "source": [
        "confusion_mat = confusion_matrix(true_classes, predicted_classes)\n",
        "print(confusion_mat)"
      ],
      "metadata": {
        "colab": {
          "base_uri": "https://localhost:8080/"
        },
        "id": "Bm7ajOG0pIzN",
        "outputId": "86de00d3-2c7f-4782-eda2-72d516ac627e"
      },
      "execution_count": null,
      "outputs": [
        {
          "output_type": "stream",
          "name": "stdout",
          "text": [
            "[[170   0   7   3]\n",
            " [  0  13   0   0]\n",
            " [  0   0 638   2]\n",
            " [  4   0  29 415]]\n"
          ]
        }
      ]
    },
    {
      "cell_type": "markdown",
      "source": [
        " Al revisar las predicciones, podemos observar cómo 2 'Very_Mild_Demnted' los clasificó como 'Non_Demented'. Del modo contrario, 29 'Non_Demented' los clasificó como 'Very_Mild_Demented'. Así mismo 9 imágenes las categoriza como 'Mild Demented' mientras que son incorrectas.\n",
        "\n",
        " A partir de esto, podemos apreciar cómo es un bastante buen modelo que posee pocos errores. Sin emabrgo, podemos ver cómo el modelo tiende a clasificar como Demented aquellos pacientes que son Non_Demented.\n"
      ],
      "metadata": {
        "id": "8IGc3Vzvpt2T"
      }
    },
    {
      "cell_type": "markdown",
      "source": [
        "# Análisis de resultados\n",
        "\n",
        "\n",
        " La elección de modelo dependerá de los fines y prioridades del problema. Por ejemplo, si nos interesa que haya el menor número de pacientes que poseen la enfermedad pero que sean clasificados como que no la poseen, será mejor el tercer modelo.\n",
        "\n",
        " Sin embargo, si se desea un modelo más estable, que overall posee menos cantidad de errores, mejores métricas, menor pérdida y poco indicio de overfitting, recomendaría el segundo modelo. Por ende, en mi opinión sería mejor quedarse con el segundo modelo.\n",
        "\n",
        " Dicho modelo posee un accuracy de validación de 0.990625"
      ],
      "metadata": {
        "id": "ERmdOWeSomxH"
      }
    },
    {
      "cell_type": "code",
      "source": [
        "predictions = []\n",
        "true_labels = []\n",
        "\n",
        "for images, labels in test_ds:\n",
        "    predictions_batch = model2.predict(images)\n",
        "    predictions.extend(predictions_batch)\n",
        "    true_labels.extend(labels)\n",
        "\n",
        "\n",
        "predicted_classes = np.argmax(predictions, axis=1)\n",
        "true_classes = np.argmax(true_labels, axis=1)\n",
        "\n",
        "# Classification report\n",
        "confusion_mat = classification_report(true_classes, predicted_classes)\n",
        "print(confusion_mat)"
      ],
      "metadata": {
        "colab": {
          "base_uri": "https://localhost:8080/"
        },
        "outputId": "4aa4ea0f-d51c-44c4-a73e-d47919fb09c7",
        "id": "F3WWV54nqB1f"
      },
      "execution_count": null,
      "outputs": [
        {
          "output_type": "stream",
          "name": "stdout",
          "text": [
            "1/1 [==============================] - 0s 184ms/step\n",
            "1/1 [==============================] - 0s 124ms/step\n",
            "1/1 [==============================] - 0s 122ms/step\n",
            "1/1 [==============================] - 0s 120ms/step\n",
            "1/1 [==============================] - 0s 126ms/step\n",
            "1/1 [==============================] - 0s 130ms/step\n",
            "1/1 [==============================] - 0s 118ms/step\n",
            "1/1 [==============================] - 0s 113ms/step\n",
            "1/1 [==============================] - 0s 120ms/step\n",
            "1/1 [==============================] - 0s 117ms/step\n",
            "1/1 [==============================] - 0s 118ms/step\n",
            "1/1 [==============================] - 0s 145ms/step\n",
            "1/1 [==============================] - 0s 193ms/step\n",
            "1/1 [==============================] - 0s 197ms/step\n",
            "1/1 [==============================] - 0s 202ms/step\n",
            "1/1 [==============================] - 0s 204ms/step\n",
            "1/1 [==============================] - 0s 221ms/step\n",
            "1/1 [==============================] - 0s 204ms/step\n",
            "1/1 [==============================] - 0s 195ms/step\n",
            "1/1 [==============================] - 0s 216ms/step\n",
            "1/1 [==============================] - 0s 216ms/step\n",
            "1/1 [==============================] - 0s 236ms/step\n",
            "1/1 [==============================] - 0s 199ms/step\n",
            "1/1 [==============================] - 0s 187ms/step\n",
            "1/1 [==============================] - 0s 189ms/step\n",
            "1/1 [==============================] - 0s 175ms/step\n",
            "1/1 [==============================] - 0s 118ms/step\n",
            "1/1 [==============================] - 0s 117ms/step\n",
            "1/1 [==============================] - 0s 121ms/step\n",
            "1/1 [==============================] - 0s 118ms/step\n",
            "1/1 [==============================] - 0s 127ms/step\n",
            "1/1 [==============================] - 0s 121ms/step\n",
            "1/1 [==============================] - 0s 116ms/step\n",
            "1/1 [==============================] - 0s 117ms/step\n",
            "1/1 [==============================] - 0s 117ms/step\n",
            "1/1 [==============================] - 0s 114ms/step\n",
            "1/1 [==============================] - 0s 116ms/step\n",
            "1/1 [==============================] - 0s 116ms/step\n",
            "1/1 [==============================] - 0s 116ms/step\n",
            "1/1 [==============================] - 0s 115ms/step\n",
            "1/1 [==============================] - 0s 73ms/step\n",
            "              precision    recall  f1-score   support\n",
            "\n",
            "           0       0.99      0.97      0.98       180\n",
            "           1       1.00      0.92      0.96        13\n",
            "           2       0.98      0.99      0.98       640\n",
            "           3       0.97      0.98      0.97       448\n",
            "\n",
            "    accuracy                           0.98      1281\n",
            "   macro avg       0.99      0.96      0.97      1281\n",
            "weighted avg       0.98      0.98      0.98      1281\n",
            "\n"
          ]
        }
      ]
    },
    {
      "cell_type": "markdown",
      "source": [
        " Así, el mejopr modelo presentó:\n",
        "\n",
        "*  8 'Very_Mild_Demnted' los clasificó como 'Non_Demented'.\n",
        "* Del modo contrario, 10 'Non_Demented' los clasificó como 'Very_Mild_Demented'.\n",
        "* Así mismo 6 imágenes las categoriza como 'Mild Demented' mientras que son incorrectas."
      ],
      "metadata": {
        "id": "mjWxdDzwqaRD"
      }
    },
    {
      "cell_type": "markdown",
      "source": [
        "Como se puede observar, todavía queda trabajo por hacer respecto a la correcta clasificación de las imágenes.\n",
        "A pesar de presentar excelentes resultados, se podría intentar utilizar transfer learning para ver si el modelo podría mejorar más respectoa  estos errores o si por el contrario tiene mejor rendimiento con arquitecturas más sencillas"
      ],
      "metadata": {
        "id": "vE3weGENqsYB"
      }
    },
    {
      "cell_type": "code",
      "source": [],
      "metadata": {
        "id": "7P2C-OrlqrnW"
      },
      "execution_count": null,
      "outputs": []
    }
  ]
}